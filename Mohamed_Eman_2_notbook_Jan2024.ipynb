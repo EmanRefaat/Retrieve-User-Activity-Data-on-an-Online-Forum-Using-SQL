{
 "cells": [
  {
   "cell_type": "markdown",
   "metadata": {},
   "source": [
    "# ChatData\n",
    "\n",
    "## Sqlite\n",
    "We are using a file system called **sqlite**. It looks and acts like a real single user relational database (RDB). sqlite3 comes packaged with python. You do not need to install the library. You simply import it (as below).\n",
    "\n",
    "- We are using Pandas to write and read to sqlite. Pandas will manage a lot of the complexity of dealing with a RDB. There are other ways of reading and writing to a RDB that are VERY common and often used in production systems.  \n",
    "\n",
    "- The most common other way is to read or write to the RDB row by row. As you can see Pandas puts the entire dataframe into the RDB or extracts a new dataframe from the RDB. These are not row by row operations. These are set operations. Set operations ARE more efficient. However, it is common to use row by row operations to avoid needing large memory computers to hold the dataframes. One row only takes a few bytes. An entire dataframe could be many gigabytes and even petabytes of data. Obviously you will end up with problems with your compute resource if your files are this big. This will not happen to you in this activity and may never happen to you while you are a data analyst. Please just be aware of this. \n",
    "\n",
    "- This activity is primarily about querying a RDB, so, we are using a simple way that Pandas provides. If you want to learn the more complex way, just google 'reading and wrting to a relational database using python'. There are many resources to learn from.\n",
    "\n",
    "- The data types that sqlite supports are quite limited. for example, it does not have a DATE type.  This is not a challenge for this project. However, more sophisticated database systems,such as Postgresql, have a large array of data types, such as \"DATE\", etc. that give those systems additional capability. \n",
    "\n",
    "- All of the SQL queries could also be performed on the Pandas DataFrames directly.  You may want to try this yourself for comparison (but make sure you do the SQL queries first, as this is an exercise in using SQL!).\n",
    "\n",
    "\n",
    "## SQL Magic\n",
    "Within the Jupyter notebook we will be using something called **SQL Magic**.  This provides a convenient way to write SQL queries directly into code cells in the notebook and to read the results back into a Pandas DataFrame.  This makes working with SQL much easier!\n",
    "\n",
    "Note that you may need to update your sqlite version using `conda update -c anaconda sqlite` in order for the SQL Magic to work correctly.\n",
    "\n",
    "## The Data Analysis Lifecycle\n",
    "The sections in this notebook follow the stages of the Data Analysis Lifecycle introduced in an earlier activity.  The stages are:\n",
    "\n",
    "- Acquire\n",
    "- Transform\n",
    "- Organise\n",
    "- Analyse\n",
    "- Communicate\n",
    "- Maintain\n"
   ]
  },
  {
   "cell_type": "markdown",
   "metadata": {},
   "source": [
    "The requirements document for this project is Template SQL queries.xlsx."
   ]
  },
  {
   "cell_type": "markdown",
   "metadata": {},
   "source": [
    "# Preliminary Steps: Create a Database\n",
    "First let's import Sqlite and the other libraries we will need."
   ]
  },
  {
   "cell_type": "code",
   "execution_count": 204,
   "metadata": {},
   "outputs": [],
   "source": [
    "# Import Libraries\n",
    "import numpy as np\n",
    "import pandas as pd\n",
    "import sqlite3"
   ]
  },
  {
   "cell_type": "markdown",
   "metadata": {},
   "source": [
    "### Create the Database\n",
    "Now we will create the Sqlite database.  Here is some code that does this for you.  We use the `%load_ext` magic command to load the SQL Magic extension and then use `%sql` to connect to the database."
   ]
  },
  {
   "cell_type": "code",
   "execution_count": 205,
   "metadata": {},
   "outputs": [
    {
     "name": "stdout",
     "output_type": "stream",
     "text": [
      "The sql extension is already loaded. To reload it, use:\n",
      "  %reload_ext sql\n"
     ]
    }
   ],
   "source": [
    "# If the db does not exist, sqlite will create it.\n",
    "con = sqlite3.connect('chatdata.db')\n",
    "\n",
    "# loads sql magic\n",
    "%load_ext sql \n",
    "\n",
    "# connects sql magic command to the correct db\n",
    "%sql sqlite:///chatdata.db "
   ]
  },
  {
   "cell_type": "code",
   "execution_count": 206,
   "metadata": {},
   "outputs": [],
   "source": [
    "%reload_ext sql\n",
    "# connects sql magic command to the correct db\n",
    "%sql sqlite:///chatdata.db "
   ]
  },
  {
   "cell_type": "markdown",
   "metadata": {},
   "source": [
    "#### Drop the `queries` table if it already exists\n",
    "The queries table will be our record of the queries created to answer the questions from the requirements spreadsheet.  As we will be running this Jupyter notebook a few times, let's drop (i.e. remove) the queries table so that we start fresh each time.  Here is the code to do this.  We use the `%%sql` magic command to tell Jupyter that we are going to write SQL in the cell.\n"
   ]
  },
  {
   "cell_type": "code",
   "execution_count": 207,
   "metadata": {},
   "outputs": [
    {
     "name": "stdout",
     "output_type": "stream",
     "text": [
      " * sqlite:///chatdata.db\n",
      "Done.\n"
     ]
    },
    {
     "data": {
      "text/plain": [
       "[]"
      ]
     },
     "execution_count": 207,
     "metadata": {},
     "output_type": "execute_result"
    }
   ],
   "source": [
    "%%sql\n",
    "DROP TABLE IF EXISTS 'queries'"
   ]
  },
  {
   "cell_type": "markdown",
   "metadata": {},
   "source": [
    "# Task 1: Load the Data\n",
    "Now we can start loading the data.  The tables will be created as we load the data.  \n",
    "\n",
    "Note that some of these files are quite large, so make sure you have plenty of free memory!"
   ]
  },
  {
   "cell_type": "markdown",
   "metadata": {},
   "source": [
    "## Lifecycle Stages: Transform and Organise\n",
    "The data has already been processed into 3 clean data files ready for this project:\n",
    "\n",
    "- queries.csv\n",
    "- posts.csv\n",
    "- comments.csv\n",
    "\n",
    "We will load these files into our database."
   ]
  },
  {
   "cell_type": "markdown",
   "metadata": {},
   "source": [
    "## Lifecycle Stage: Acquire\n",
    "The data can be found in the OpenClassrooms instructions for this activity."
   ]
  },
  {
   "cell_type": "markdown",
   "metadata": {},
   "source": [
    "### Load Comments Data into a `comments` table\n",
    "Now we will load the data from the csv files into our sqlite database.\n",
    "\n",
    "First we load the csv file into a Pandas dataframe:"
   ]
  },
  {
   "cell_type": "code",
   "execution_count": 208,
   "metadata": {},
   "outputs": [
    {
     "data": {
      "text/html": [
       "<div>\n",
       "<style scoped>\n",
       "    .dataframe tbody tr th:only-of-type {\n",
       "        vertical-align: middle;\n",
       "    }\n",
       "\n",
       "    .dataframe tbody tr th {\n",
       "        vertical-align: top;\n",
       "    }\n",
       "\n",
       "    .dataframe thead th {\n",
       "        text-align: right;\n",
       "    }\n",
       "</style>\n",
       "<table border=\"1\" class=\"dataframe\">\n",
       "  <thead>\n",
       "    <tr style=\"text-align: right;\">\n",
       "      <th></th>\n",
       "      <th>Id</th>\n",
       "      <th>PostId</th>\n",
       "      <th>Score</th>\n",
       "      <th>Text</th>\n",
       "      <th>CreationDate</th>\n",
       "      <th>UserId</th>\n",
       "    </tr>\n",
       "  </thead>\n",
       "  <tbody>\n",
       "    <tr>\n",
       "      <th>0</th>\n",
       "      <td>723182</td>\n",
       "      <td>385124</td>\n",
       "      <td>0</td>\n",
       "      <td>@BenBolker I don't understand. The fit cannot ...</td>\n",
       "      <td>2019-01-01 00:06:39</td>\n",
       "      <td>78575</td>\n",
       "    </tr>\n",
       "    <tr>\n",
       "      <th>1</th>\n",
       "      <td>723183</td>\n",
       "      <td>385124</td>\n",
       "      <td>3</td>\n",
       "      <td>You can't add *less* than (`-min(y)`), but you...</td>\n",
       "      <td>2019-01-01 00:09:22</td>\n",
       "      <td>2126</td>\n",
       "    </tr>\n",
       "    <tr>\n",
       "      <th>2</th>\n",
       "      <td>723186</td>\n",
       "      <td>385137</td>\n",
       "      <td>0</td>\n",
       "      <td>nice. If you felt like doing the work it would...</td>\n",
       "      <td>2019-01-01 00:32:11</td>\n",
       "      <td>2126</td>\n",
       "    </tr>\n",
       "    <tr>\n",
       "      <th>3</th>\n",
       "      <td>723187</td>\n",
       "      <td>385137</td>\n",
       "      <td>0</td>\n",
       "      <td>i.e. `emdbook::curve3d(-sum(dnbinom(y,mu=mu,si...</td>\n",
       "      <td>2019-01-01 00:40:36</td>\n",
       "      <td>2126</td>\n",
       "    </tr>\n",
       "    <tr>\n",
       "      <th>4</th>\n",
       "      <td>723188</td>\n",
       "      <td>385134</td>\n",
       "      <td>0</td>\n",
       "      <td>Don't you mean \"so variance should be $\\sigma^...</td>\n",
       "      <td>2019-01-01 00:41:28</td>\n",
       "      <td>112141</td>\n",
       "    </tr>\n",
       "  </tbody>\n",
       "</table>\n",
       "</div>"
      ],
      "text/plain": [
       "       Id  PostId  Score                                               Text  \\\n",
       "0  723182  385124      0  @BenBolker I don't understand. The fit cannot ...   \n",
       "1  723183  385124      3  You can't add *less* than (`-min(y)`), but you...   \n",
       "2  723186  385137      0  nice. If you felt like doing the work it would...   \n",
       "3  723187  385137      0  i.e. `emdbook::curve3d(-sum(dnbinom(y,mu=mu,si...   \n",
       "4  723188  385134      0  Don't you mean \"so variance should be $\\sigma^...   \n",
       "\n",
       "          CreationDate  UserId  \n",
       "0  2019-01-01 00:06:39   78575  \n",
       "1  2019-01-01 00:09:22    2126  \n",
       "2  2019-01-01 00:32:11    2126  \n",
       "3  2019-01-01 00:40:36    2126  \n",
       "4  2019-01-01 00:41:28  112141  "
      ]
     },
     "execution_count": 208,
     "metadata": {},
     "output_type": "execute_result"
    }
   ],
   "source": [
    "comments = pd.read_csv('comments.csv')\n",
    "comments.head()"
   ]
  },
  {
   "cell_type": "markdown",
   "metadata": {},
   "source": [
    "Now take the comments dataframe and push the data into the Sqlite database table called 'comments':"
   ]
  },
  {
   "cell_type": "code",
   "execution_count": 209,
   "metadata": {},
   "outputs": [
    {
     "data": {
      "text/html": [
       "<div>\n",
       "<style scoped>\n",
       "    .dataframe tbody tr th:only-of-type {\n",
       "        vertical-align: middle;\n",
       "    }\n",
       "\n",
       "    .dataframe tbody tr th {\n",
       "        vertical-align: top;\n",
       "    }\n",
       "\n",
       "    .dataframe thead th {\n",
       "        text-align: right;\n",
       "    }\n",
       "</style>\n",
       "<table border=\"1\" class=\"dataframe\">\n",
       "  <thead>\n",
       "    <tr style=\"text-align: right;\">\n",
       "      <th></th>\n",
       "      <th>Id</th>\n",
       "      <th>PostId</th>\n",
       "      <th>Score</th>\n",
       "      <th>Text</th>\n",
       "      <th>CreationDate</th>\n",
       "      <th>UserId</th>\n",
       "    </tr>\n",
       "  </thead>\n",
       "  <tbody>\n",
       "    <tr>\n",
       "      <th>0</th>\n",
       "      <td>723182</td>\n",
       "      <td>385124</td>\n",
       "      <td>0</td>\n",
       "      <td>@BenBolker I don't understand. The fit cannot ...</td>\n",
       "      <td>2019-01-01 00:06:39</td>\n",
       "      <td>78575</td>\n",
       "    </tr>\n",
       "    <tr>\n",
       "      <th>1</th>\n",
       "      <td>723183</td>\n",
       "      <td>385124</td>\n",
       "      <td>3</td>\n",
       "      <td>You can't add *less* than (`-min(y)`), but you...</td>\n",
       "      <td>2019-01-01 00:09:22</td>\n",
       "      <td>2126</td>\n",
       "    </tr>\n",
       "    <tr>\n",
       "      <th>2</th>\n",
       "      <td>723186</td>\n",
       "      <td>385137</td>\n",
       "      <td>0</td>\n",
       "      <td>nice. If you felt like doing the work it would...</td>\n",
       "      <td>2019-01-01 00:32:11</td>\n",
       "      <td>2126</td>\n",
       "    </tr>\n",
       "    <tr>\n",
       "      <th>3</th>\n",
       "      <td>723187</td>\n",
       "      <td>385137</td>\n",
       "      <td>0</td>\n",
       "      <td>i.e. `emdbook::curve3d(-sum(dnbinom(y,mu=mu,si...</td>\n",
       "      <td>2019-01-01 00:40:36</td>\n",
       "      <td>2126</td>\n",
       "    </tr>\n",
       "    <tr>\n",
       "      <th>4</th>\n",
       "      <td>723188</td>\n",
       "      <td>385134</td>\n",
       "      <td>0</td>\n",
       "      <td>Don't you mean \"so variance should be $\\sigma^...</td>\n",
       "      <td>2019-01-01 00:41:28</td>\n",
       "      <td>112141</td>\n",
       "    </tr>\n",
       "  </tbody>\n",
       "</table>\n",
       "</div>"
      ],
      "text/plain": [
       "       Id  PostId  Score                                               Text  \\\n",
       "0  723182  385124      0  @BenBolker I don't understand. The fit cannot ...   \n",
       "1  723183  385124      3  You can't add *less* than (`-min(y)`), but you...   \n",
       "2  723186  385137      0  nice. If you felt like doing the work it would...   \n",
       "3  723187  385137      0  i.e. `emdbook::curve3d(-sum(dnbinom(y,mu=mu,si...   \n",
       "4  723188  385134      0  Don't you mean \"so variance should be $\\sigma^...   \n",
       "\n",
       "          CreationDate  UserId  \n",
       "0  2019-01-01 00:06:39   78575  \n",
       "1  2019-01-01 00:09:22    2126  \n",
       "2  2019-01-01 00:32:11    2126  \n",
       "3  2019-01-01 00:40:36    2126  \n",
       "4  2019-01-01 00:41:28  112141  "
      ]
     },
     "execution_count": 209,
     "metadata": {},
     "output_type": "execute_result"
    }
   ],
   "source": [
    "# load comments into sqlite\n",
    "comments.to_sql('comments', con, if_exists='replace', index=False)\n",
    "\n",
    "# read back in to prove that it worked\n",
    "sql = 'SELECT * FROM comments'\n",
    "comments = pd.read_sql(sql, con)\n",
    "comments.head()"
   ]
  },
  {
   "cell_type": "markdown",
   "metadata": {},
   "source": [
    "### Load Other CSVs\n",
    "Now that you have seen the code for loading in the comments.csv now do the same to read and write the posts.csv and users.csv to sqlite. \n",
    "\n",
    "<div style=\"background-color:lemonchiffon; border:1px solid; padding:5px; margin:5px; font-weight:bold\"><font color=\"crimson\">\n",
    "TODO: Enter code in the following cells. Insert as many cells as you want to do this.\n",
    "    </font></div>"
   ]
  },
  {
   "cell_type": "code",
   "execution_count": 210,
   "metadata": {},
   "outputs": [
    {
     "data": {
      "text/html": [
       "<div>\n",
       "<style scoped>\n",
       "    .dataframe tbody tr th:only-of-type {\n",
       "        vertical-align: middle;\n",
       "    }\n",
       "\n",
       "    .dataframe tbody tr th {\n",
       "        vertical-align: top;\n",
       "    }\n",
       "\n",
       "    .dataframe thead th {\n",
       "        text-align: right;\n",
       "    }\n",
       "</style>\n",
       "<table border=\"1\" class=\"dataframe\">\n",
       "  <thead>\n",
       "    <tr style=\"text-align: right;\">\n",
       "      <th></th>\n",
       "      <th>Id</th>\n",
       "      <th>PostTypeId</th>\n",
       "      <th>AcceptedAnswerId</th>\n",
       "      <th>ParentId</th>\n",
       "      <th>CreationDate</th>\n",
       "      <th>Score</th>\n",
       "      <th>ViewCount</th>\n",
       "      <th>Body</th>\n",
       "      <th>OwnerUserId</th>\n",
       "      <th>OwnerDisplayName</th>\n",
       "      <th>...</th>\n",
       "      <th>LastEditorDisplayName</th>\n",
       "      <th>LastEditDate</th>\n",
       "      <th>LastActivityDate</th>\n",
       "      <th>Title</th>\n",
       "      <th>Tags</th>\n",
       "      <th>AnswerCount</th>\n",
       "      <th>CommentCount</th>\n",
       "      <th>FavoriteCount</th>\n",
       "      <th>ClosedDate</th>\n",
       "      <th>CommunityOwnedDate</th>\n",
       "    </tr>\n",
       "  </thead>\n",
       "  <tbody>\n",
       "    <tr>\n",
       "      <th>0</th>\n",
       "      <td>423497</td>\n",
       "      <td>1</td>\n",
       "      <td>423511</td>\n",
       "      <td>0</td>\n",
       "      <td>2019-08-24 09:39:31</td>\n",
       "      <td>2</td>\n",
       "      <td>68</td>\n",
       "      <td>&lt;p&gt;From wikipedia &lt;a href=\"https://en.wikipedi...</td>\n",
       "      <td>64552</td>\n",
       "      <td>NaN</td>\n",
       "      <td>...</td>\n",
       "      <td>NaN</td>\n",
       "      <td>NaN</td>\n",
       "      <td>2019-08-24 11:38:54</td>\n",
       "      <td>When are biased estimators with lower MSE pref...</td>\n",
       "      <td>&lt;bias&gt;&lt;unbiased-estimator&gt;&lt;mse&gt;</td>\n",
       "      <td>1</td>\n",
       "      <td>0</td>\n",
       "      <td>1</td>\n",
       "      <td>2019-08-25 10:25:24</td>\n",
       "      <td>NaN</td>\n",
       "    </tr>\n",
       "    <tr>\n",
       "      <th>1</th>\n",
       "      <td>423498</td>\n",
       "      <td>1</td>\n",
       "      <td>0</td>\n",
       "      <td>0</td>\n",
       "      <td>2019-08-24 09:47:42</td>\n",
       "      <td>1</td>\n",
       "      <td>24</td>\n",
       "      <td>&lt;p&gt;I am currently doing local sensitivity anal...</td>\n",
       "      <td>87231</td>\n",
       "      <td>NaN</td>\n",
       "      <td>...</td>\n",
       "      <td>NaN</td>\n",
       "      <td>2019-09-06 12:52:32</td>\n",
       "      <td>2019-09-06 12:52:32</td>\n",
       "      <td>How to interpret the result from local sensiti...</td>\n",
       "      <td>&lt;sensitivity-analysis&gt;&lt;elasticity&gt;</td>\n",
       "      <td>1</td>\n",
       "      <td>0</td>\n",
       "      <td>0</td>\n",
       "      <td>NaN</td>\n",
       "      <td>NaN</td>\n",
       "    </tr>\n",
       "    <tr>\n",
       "      <th>2</th>\n",
       "      <td>423499</td>\n",
       "      <td>1</td>\n",
       "      <td>0</td>\n",
       "      <td>0</td>\n",
       "      <td>2019-08-24 09:48:26</td>\n",
       "      <td>1</td>\n",
       "      <td>56</td>\n",
       "      <td>&lt;p&gt;I'm an honours student in psychology doing ...</td>\n",
       "      <td>257207</td>\n",
       "      <td>NaN</td>\n",
       "      <td>...</td>\n",
       "      <td>NaN</td>\n",
       "      <td>NaN</td>\n",
       "      <td>2019-08-25 08:54:17</td>\n",
       "      <td>Power Analysis in G-Power - Mixed Model Anova</td>\n",
       "      <td>&lt;anova&gt;&lt;gpower&gt;</td>\n",
       "      <td>2</td>\n",
       "      <td>0</td>\n",
       "      <td>0</td>\n",
       "      <td>NaN</td>\n",
       "      <td>NaN</td>\n",
       "    </tr>\n",
       "    <tr>\n",
       "      <th>3</th>\n",
       "      <td>423500</td>\n",
       "      <td>2</td>\n",
       "      <td>0</td>\n",
       "      <td>215865</td>\n",
       "      <td>2019-08-24 09:57:01</td>\n",
       "      <td>0</td>\n",
       "      <td>0</td>\n",
       "      <td>&lt;p&gt;Maybe you can look this &lt;a href=\"https://me...</td>\n",
       "      <td>106606</td>\n",
       "      <td>NaN</td>\n",
       "      <td>...</td>\n",
       "      <td>NaN</td>\n",
       "      <td>NaN</td>\n",
       "      <td>2019-08-24 09:57:01</td>\n",
       "      <td>NaN</td>\n",
       "      <td>NaN</td>\n",
       "      <td>0</td>\n",
       "      <td>0</td>\n",
       "      <td>0</td>\n",
       "      <td>NaN</td>\n",
       "      <td>NaN</td>\n",
       "    </tr>\n",
       "    <tr>\n",
       "      <th>4</th>\n",
       "      <td>423502</td>\n",
       "      <td>2</td>\n",
       "      <td>0</td>\n",
       "      <td>423286</td>\n",
       "      <td>2019-08-24 10:44:52</td>\n",
       "      <td>3</td>\n",
       "      <td>0</td>\n",
       "      <td>&lt;blockquote&gt;\\n  &lt;p&gt;Q1) Is my approach valid?&lt;/...</td>\n",
       "      <td>220643</td>\n",
       "      <td>NaN</td>\n",
       "      <td>...</td>\n",
       "      <td>NaN</td>\n",
       "      <td>2019-08-24 12:13:46</td>\n",
       "      <td>2019-08-24 12:13:46</td>\n",
       "      <td>NaN</td>\n",
       "      <td>NaN</td>\n",
       "      <td>0</td>\n",
       "      <td>1</td>\n",
       "      <td>0</td>\n",
       "      <td>NaN</td>\n",
       "      <td>NaN</td>\n",
       "    </tr>\n",
       "  </tbody>\n",
       "</table>\n",
       "<p>5 rows × 21 columns</p>\n",
       "</div>"
      ],
      "text/plain": [
       "       Id  PostTypeId  AcceptedAnswerId  ParentId         CreationDate  Score  \\\n",
       "0  423497           1            423511         0  2019-08-24 09:39:31      2   \n",
       "1  423498           1                 0         0  2019-08-24 09:47:42      1   \n",
       "2  423499           1                 0         0  2019-08-24 09:48:26      1   \n",
       "3  423500           2                 0    215865  2019-08-24 09:57:01      0   \n",
       "4  423502           2                 0    423286  2019-08-24 10:44:52      3   \n",
       "\n",
       "   ViewCount                                               Body  OwnerUserId  \\\n",
       "0         68  <p>From wikipedia <a href=\"https://en.wikipedi...        64552   \n",
       "1         24  <p>I am currently doing local sensitivity anal...        87231   \n",
       "2         56  <p>I'm an honours student in psychology doing ...       257207   \n",
       "3          0  <p>Maybe you can look this <a href=\"https://me...       106606   \n",
       "4          0  <blockquote>\\n  <p>Q1) Is my approach valid?</...       220643   \n",
       "\n",
       "  OwnerDisplayName  ...  LastEditorDisplayName         LastEditDate  \\\n",
       "0              NaN  ...                    NaN                  NaN   \n",
       "1              NaN  ...                    NaN  2019-09-06 12:52:32   \n",
       "2              NaN  ...                    NaN                  NaN   \n",
       "3              NaN  ...                    NaN                  NaN   \n",
       "4              NaN  ...                    NaN  2019-08-24 12:13:46   \n",
       "\n",
       "      LastActivityDate                                              Title  \\\n",
       "0  2019-08-24 11:38:54  When are biased estimators with lower MSE pref...   \n",
       "1  2019-09-06 12:52:32  How to interpret the result from local sensiti...   \n",
       "2  2019-08-25 08:54:17      Power Analysis in G-Power - Mixed Model Anova   \n",
       "3  2019-08-24 09:57:01                                                NaN   \n",
       "4  2019-08-24 12:13:46                                                NaN   \n",
       "\n",
       "                                 Tags AnswerCount  CommentCount  \\\n",
       "0     <bias><unbiased-estimator><mse>           1             0   \n",
       "1  <sensitivity-analysis><elasticity>           1             0   \n",
       "2                     <anova><gpower>           2             0   \n",
       "3                                 NaN           0             0   \n",
       "4                                 NaN           0             1   \n",
       "\n",
       "   FavoriteCount           ClosedDate CommunityOwnedDate  \n",
       "0              1  2019-08-25 10:25:24                NaN  \n",
       "1              0                  NaN                NaN  \n",
       "2              0                  NaN                NaN  \n",
       "3              0                  NaN                NaN  \n",
       "4              0                  NaN                NaN  \n",
       "\n",
       "[5 rows x 21 columns]"
      ]
     },
     "execution_count": 210,
     "metadata": {},
     "output_type": "execute_result"
    }
   ],
   "source": [
    "# TODO posts.csv\n",
    "posts = pd.read_csv('posts.csv')\n",
    "posts.head()"
   ]
  },
  {
   "cell_type": "code",
   "execution_count": 211,
   "metadata": {},
   "outputs": [
    {
     "data": {
      "text/html": [
       "<div>\n",
       "<style scoped>\n",
       "    .dataframe tbody tr th:only-of-type {\n",
       "        vertical-align: middle;\n",
       "    }\n",
       "\n",
       "    .dataframe tbody tr th {\n",
       "        vertical-align: top;\n",
       "    }\n",
       "\n",
       "    .dataframe thead th {\n",
       "        text-align: right;\n",
       "    }\n",
       "</style>\n",
       "<table border=\"1\" class=\"dataframe\">\n",
       "  <thead>\n",
       "    <tr style=\"text-align: right;\">\n",
       "      <th></th>\n",
       "      <th>Id</th>\n",
       "      <th>PostTypeId</th>\n",
       "      <th>AcceptedAnswerId</th>\n",
       "      <th>ParentId</th>\n",
       "      <th>CreationDate</th>\n",
       "      <th>Score</th>\n",
       "      <th>ViewCount</th>\n",
       "      <th>Body</th>\n",
       "      <th>OwnerUserId</th>\n",
       "      <th>OwnerDisplayName</th>\n",
       "      <th>...</th>\n",
       "      <th>LastEditorDisplayName</th>\n",
       "      <th>LastEditDate</th>\n",
       "      <th>LastActivityDate</th>\n",
       "      <th>Title</th>\n",
       "      <th>Tags</th>\n",
       "      <th>AnswerCount</th>\n",
       "      <th>CommentCount</th>\n",
       "      <th>FavoriteCount</th>\n",
       "      <th>ClosedDate</th>\n",
       "      <th>CommunityOwnedDate</th>\n",
       "    </tr>\n",
       "  </thead>\n",
       "  <tbody>\n",
       "    <tr>\n",
       "      <th>0</th>\n",
       "      <td>423497</td>\n",
       "      <td>1</td>\n",
       "      <td>423511</td>\n",
       "      <td>0</td>\n",
       "      <td>2019-08-24 09:39:31</td>\n",
       "      <td>2</td>\n",
       "      <td>68</td>\n",
       "      <td>&lt;p&gt;From wikipedia &lt;a href=\"https://en.wikipedi...</td>\n",
       "      <td>64552</td>\n",
       "      <td>None</td>\n",
       "      <td>...</td>\n",
       "      <td>None</td>\n",
       "      <td>None</td>\n",
       "      <td>2019-08-24 11:38:54</td>\n",
       "      <td>When are biased estimators with lower MSE pref...</td>\n",
       "      <td>&lt;bias&gt;&lt;unbiased-estimator&gt;&lt;mse&gt;</td>\n",
       "      <td>1</td>\n",
       "      <td>0</td>\n",
       "      <td>1</td>\n",
       "      <td>2019-08-25 10:25:24</td>\n",
       "      <td>None</td>\n",
       "    </tr>\n",
       "    <tr>\n",
       "      <th>1</th>\n",
       "      <td>423498</td>\n",
       "      <td>1</td>\n",
       "      <td>0</td>\n",
       "      <td>0</td>\n",
       "      <td>2019-08-24 09:47:42</td>\n",
       "      <td>1</td>\n",
       "      <td>24</td>\n",
       "      <td>&lt;p&gt;I am currently doing local sensitivity anal...</td>\n",
       "      <td>87231</td>\n",
       "      <td>None</td>\n",
       "      <td>...</td>\n",
       "      <td>None</td>\n",
       "      <td>2019-09-06 12:52:32</td>\n",
       "      <td>2019-09-06 12:52:32</td>\n",
       "      <td>How to interpret the result from local sensiti...</td>\n",
       "      <td>&lt;sensitivity-analysis&gt;&lt;elasticity&gt;</td>\n",
       "      <td>1</td>\n",
       "      <td>0</td>\n",
       "      <td>0</td>\n",
       "      <td>None</td>\n",
       "      <td>None</td>\n",
       "    </tr>\n",
       "    <tr>\n",
       "      <th>2</th>\n",
       "      <td>423499</td>\n",
       "      <td>1</td>\n",
       "      <td>0</td>\n",
       "      <td>0</td>\n",
       "      <td>2019-08-24 09:48:26</td>\n",
       "      <td>1</td>\n",
       "      <td>56</td>\n",
       "      <td>&lt;p&gt;I'm an honours student in psychology doing ...</td>\n",
       "      <td>257207</td>\n",
       "      <td>None</td>\n",
       "      <td>...</td>\n",
       "      <td>None</td>\n",
       "      <td>None</td>\n",
       "      <td>2019-08-25 08:54:17</td>\n",
       "      <td>Power Analysis in G-Power - Mixed Model Anova</td>\n",
       "      <td>&lt;anova&gt;&lt;gpower&gt;</td>\n",
       "      <td>2</td>\n",
       "      <td>0</td>\n",
       "      <td>0</td>\n",
       "      <td>None</td>\n",
       "      <td>None</td>\n",
       "    </tr>\n",
       "    <tr>\n",
       "      <th>3</th>\n",
       "      <td>423500</td>\n",
       "      <td>2</td>\n",
       "      <td>0</td>\n",
       "      <td>215865</td>\n",
       "      <td>2019-08-24 09:57:01</td>\n",
       "      <td>0</td>\n",
       "      <td>0</td>\n",
       "      <td>&lt;p&gt;Maybe you can look this &lt;a href=\"https://me...</td>\n",
       "      <td>106606</td>\n",
       "      <td>None</td>\n",
       "      <td>...</td>\n",
       "      <td>None</td>\n",
       "      <td>None</td>\n",
       "      <td>2019-08-24 09:57:01</td>\n",
       "      <td>None</td>\n",
       "      <td>None</td>\n",
       "      <td>0</td>\n",
       "      <td>0</td>\n",
       "      <td>0</td>\n",
       "      <td>None</td>\n",
       "      <td>None</td>\n",
       "    </tr>\n",
       "    <tr>\n",
       "      <th>4</th>\n",
       "      <td>423502</td>\n",
       "      <td>2</td>\n",
       "      <td>0</td>\n",
       "      <td>423286</td>\n",
       "      <td>2019-08-24 10:44:52</td>\n",
       "      <td>3</td>\n",
       "      <td>0</td>\n",
       "      <td>&lt;blockquote&gt;\\n  &lt;p&gt;Q1) Is my approach valid?&lt;/...</td>\n",
       "      <td>220643</td>\n",
       "      <td>None</td>\n",
       "      <td>...</td>\n",
       "      <td>None</td>\n",
       "      <td>2019-08-24 12:13:46</td>\n",
       "      <td>2019-08-24 12:13:46</td>\n",
       "      <td>None</td>\n",
       "      <td>None</td>\n",
       "      <td>0</td>\n",
       "      <td>1</td>\n",
       "      <td>0</td>\n",
       "      <td>None</td>\n",
       "      <td>None</td>\n",
       "    </tr>\n",
       "  </tbody>\n",
       "</table>\n",
       "<p>5 rows × 21 columns</p>\n",
       "</div>"
      ],
      "text/plain": [
       "       Id  PostTypeId  AcceptedAnswerId  ParentId         CreationDate  Score  \\\n",
       "0  423497           1            423511         0  2019-08-24 09:39:31      2   \n",
       "1  423498           1                 0         0  2019-08-24 09:47:42      1   \n",
       "2  423499           1                 0         0  2019-08-24 09:48:26      1   \n",
       "3  423500           2                 0    215865  2019-08-24 09:57:01      0   \n",
       "4  423502           2                 0    423286  2019-08-24 10:44:52      3   \n",
       "\n",
       "   ViewCount                                               Body  OwnerUserId  \\\n",
       "0         68  <p>From wikipedia <a href=\"https://en.wikipedi...        64552   \n",
       "1         24  <p>I am currently doing local sensitivity anal...        87231   \n",
       "2         56  <p>I'm an honours student in psychology doing ...       257207   \n",
       "3          0  <p>Maybe you can look this <a href=\"https://me...       106606   \n",
       "4          0  <blockquote>\\n  <p>Q1) Is my approach valid?</...       220643   \n",
       "\n",
       "  OwnerDisplayName  ...  LastEditorDisplayName         LastEditDate  \\\n",
       "0             None  ...                   None                 None   \n",
       "1             None  ...                   None  2019-09-06 12:52:32   \n",
       "2             None  ...                   None                 None   \n",
       "3             None  ...                   None                 None   \n",
       "4             None  ...                   None  2019-08-24 12:13:46   \n",
       "\n",
       "      LastActivityDate                                              Title  \\\n",
       "0  2019-08-24 11:38:54  When are biased estimators with lower MSE pref...   \n",
       "1  2019-09-06 12:52:32  How to interpret the result from local sensiti...   \n",
       "2  2019-08-25 08:54:17      Power Analysis in G-Power - Mixed Model Anova   \n",
       "3  2019-08-24 09:57:01                                               None   \n",
       "4  2019-08-24 12:13:46                                               None   \n",
       "\n",
       "                                 Tags AnswerCount  CommentCount  \\\n",
       "0     <bias><unbiased-estimator><mse>           1             0   \n",
       "1  <sensitivity-analysis><elasticity>           1             0   \n",
       "2                     <anova><gpower>           2             0   \n",
       "3                                None           0             0   \n",
       "4                                None           0             1   \n",
       "\n",
       "   FavoriteCount           ClosedDate CommunityOwnedDate  \n",
       "0              1  2019-08-25 10:25:24               None  \n",
       "1              0                 None               None  \n",
       "2              0                 None               None  \n",
       "3              0                 None               None  \n",
       "4              0                 None               None  \n",
       "\n",
       "[5 rows x 21 columns]"
      ]
     },
     "execution_count": 211,
     "metadata": {},
     "output_type": "execute_result"
    }
   ],
   "source": [
    "# load posts into sqlite\n",
    "posts.to_sql('posts',con, if_exists = 'replace', index=False)\n",
    "\n",
    "# read back in to prove that it worked\n",
    "sql='SELECT * FROM posts'\n",
    "posts= pd.read_sql(sql,con)\n",
    "posts.head()"
   ]
  },
  {
   "cell_type": "code",
   "execution_count": 212,
   "metadata": {},
   "outputs": [
    {
     "data": {
      "text/html": [
       "<div>\n",
       "<style scoped>\n",
       "    .dataframe tbody tr th:only-of-type {\n",
       "        vertical-align: middle;\n",
       "    }\n",
       "\n",
       "    .dataframe tbody tr th {\n",
       "        vertical-align: top;\n",
       "    }\n",
       "\n",
       "    .dataframe thead th {\n",
       "        text-align: right;\n",
       "    }\n",
       "</style>\n",
       "<table border=\"1\" class=\"dataframe\">\n",
       "  <thead>\n",
       "    <tr style=\"text-align: right;\">\n",
       "      <th></th>\n",
       "      <th>Id</th>\n",
       "      <th>Reputation</th>\n",
       "      <th>CreationDate</th>\n",
       "      <th>DisplayName</th>\n",
       "      <th>LastAccessDate</th>\n",
       "      <th>WebsiteUrl</th>\n",
       "      <th>Location</th>\n",
       "      <th>AboutMe</th>\n",
       "      <th>Views</th>\n",
       "      <th>UpVotes</th>\n",
       "      <th>DownVotes</th>\n",
       "      <th>ProfileImageUrl</th>\n",
       "      <th>AccountId</th>\n",
       "    </tr>\n",
       "  </thead>\n",
       "  <tbody>\n",
       "    <tr>\n",
       "      <th>0</th>\n",
       "      <td>157607</td>\n",
       "      <td>31</td>\n",
       "      <td>2017-04-17 14:50:42</td>\n",
       "      <td>user157607</td>\n",
       "      <td>2019-07-23 16:44:08</td>\n",
       "      <td>NaN</td>\n",
       "      <td>NaN</td>\n",
       "      <td>NaN</td>\n",
       "      <td>0</td>\n",
       "      <td>0</td>\n",
       "      <td>0</td>\n",
       "      <td>https://www.gravatar.com/avatar/2efb161849efa4...</td>\n",
       "      <td>10705183</td>\n",
       "    </tr>\n",
       "    <tr>\n",
       "      <th>1</th>\n",
       "      <td>157656</td>\n",
       "      <td>101</td>\n",
       "      <td>2017-04-17 20:08:20</td>\n",
       "      <td>user102859</td>\n",
       "      <td>2019-06-26 13:42:13</td>\n",
       "      <td>NaN</td>\n",
       "      <td>NaN</td>\n",
       "      <td>NaN</td>\n",
       "      <td>3</td>\n",
       "      <td>0</td>\n",
       "      <td>0</td>\n",
       "      <td>https://i.stack.imgur.com/eY4ka.jpg?s=128&amp;g=1</td>\n",
       "      <td>10567606</td>\n",
       "    </tr>\n",
       "    <tr>\n",
       "      <th>2</th>\n",
       "      <td>157704</td>\n",
       "      <td>133</td>\n",
       "      <td>2017-04-18 05:10:47</td>\n",
       "      <td>jupiar</td>\n",
       "      <td>2019-11-25 13:32:27</td>\n",
       "      <td>NaN</td>\n",
       "      <td>Shanghai, China</td>\n",
       "      <td>&lt;p&gt;Originally from the U.K, I have an Undergra...</td>\n",
       "      <td>1</td>\n",
       "      <td>1</td>\n",
       "      <td>0</td>\n",
       "      <td>https://www.gravatar.com/avatar/720e20205122c5...</td>\n",
       "      <td>9501631</td>\n",
       "    </tr>\n",
       "    <tr>\n",
       "      <th>3</th>\n",
       "      <td>157709</td>\n",
       "      <td>155</td>\n",
       "      <td>2017-04-18 06:39:18</td>\n",
       "      <td>farmer</td>\n",
       "      <td>2019-02-17 19:44:24</td>\n",
       "      <td>NaN</td>\n",
       "      <td>NaN</td>\n",
       "      <td>NaN</td>\n",
       "      <td>16</td>\n",
       "      <td>0</td>\n",
       "      <td>0</td>\n",
       "      <td>https://www.gravatar.com/avatar/0f8c4bde3d8f25...</td>\n",
       "      <td>10709837</td>\n",
       "    </tr>\n",
       "    <tr>\n",
       "      <th>4</th>\n",
       "      <td>157755</td>\n",
       "      <td>101</td>\n",
       "      <td>2017-04-18 12:56:17</td>\n",
       "      <td>Miki P</td>\n",
       "      <td>2019-08-12 17:02:21</td>\n",
       "      <td>NaN</td>\n",
       "      <td>NaN</td>\n",
       "      <td>NaN</td>\n",
       "      <td>1</td>\n",
       "      <td>9</td>\n",
       "      <td>0</td>\n",
       "      <td>https://www.gravatar.com/avatar/af088558cd81c5...</td>\n",
       "      <td>7969290</td>\n",
       "    </tr>\n",
       "  </tbody>\n",
       "</table>\n",
       "</div>"
      ],
      "text/plain": [
       "       Id  Reputation         CreationDate DisplayName       LastAccessDate  \\\n",
       "0  157607          31  2017-04-17 14:50:42  user157607  2019-07-23 16:44:08   \n",
       "1  157656         101  2017-04-17 20:08:20  user102859  2019-06-26 13:42:13   \n",
       "2  157704         133  2017-04-18 05:10:47      jupiar  2019-11-25 13:32:27   \n",
       "3  157709         155  2017-04-18 06:39:18      farmer  2019-02-17 19:44:24   \n",
       "4  157755         101  2017-04-18 12:56:17      Miki P  2019-08-12 17:02:21   \n",
       "\n",
       "  WebsiteUrl         Location  \\\n",
       "0        NaN              NaN   \n",
       "1        NaN              NaN   \n",
       "2        NaN  Shanghai, China   \n",
       "3        NaN              NaN   \n",
       "4        NaN              NaN   \n",
       "\n",
       "                                             AboutMe  Views  UpVotes  \\\n",
       "0                                                NaN      0        0   \n",
       "1                                                NaN      3        0   \n",
       "2  <p>Originally from the U.K, I have an Undergra...      1        1   \n",
       "3                                                NaN     16        0   \n",
       "4                                                NaN      1        9   \n",
       "\n",
       "   DownVotes                                    ProfileImageUrl  AccountId  \n",
       "0          0  https://www.gravatar.com/avatar/2efb161849efa4...   10705183  \n",
       "1          0      https://i.stack.imgur.com/eY4ka.jpg?s=128&g=1   10567606  \n",
       "2          0  https://www.gravatar.com/avatar/720e20205122c5...    9501631  \n",
       "3          0  https://www.gravatar.com/avatar/0f8c4bde3d8f25...   10709837  \n",
       "4          0  https://www.gravatar.com/avatar/af088558cd81c5...    7969290  "
      ]
     },
     "execution_count": 212,
     "metadata": {},
     "output_type": "execute_result"
    }
   ],
   "source": [
    "# TODO Users.csv\n",
    "users = pd.read_csv('users.csv')\n",
    "users.head()"
   ]
  },
  {
   "cell_type": "code",
   "execution_count": 213,
   "metadata": {},
   "outputs": [
    {
     "data": {
      "text/html": [
       "<div>\n",
       "<style scoped>\n",
       "    .dataframe tbody tr th:only-of-type {\n",
       "        vertical-align: middle;\n",
       "    }\n",
       "\n",
       "    .dataframe tbody tr th {\n",
       "        vertical-align: top;\n",
       "    }\n",
       "\n",
       "    .dataframe thead th {\n",
       "        text-align: right;\n",
       "    }\n",
       "</style>\n",
       "<table border=\"1\" class=\"dataframe\">\n",
       "  <thead>\n",
       "    <tr style=\"text-align: right;\">\n",
       "      <th></th>\n",
       "      <th>Id</th>\n",
       "      <th>Reputation</th>\n",
       "      <th>CreationDate</th>\n",
       "      <th>DisplayName</th>\n",
       "      <th>LastAccessDate</th>\n",
       "      <th>WebsiteUrl</th>\n",
       "      <th>Location</th>\n",
       "      <th>AboutMe</th>\n",
       "      <th>Views</th>\n",
       "      <th>UpVotes</th>\n",
       "      <th>DownVotes</th>\n",
       "      <th>ProfileImageUrl</th>\n",
       "      <th>AccountId</th>\n",
       "    </tr>\n",
       "  </thead>\n",
       "  <tbody>\n",
       "    <tr>\n",
       "      <th>0</th>\n",
       "      <td>157607</td>\n",
       "      <td>31</td>\n",
       "      <td>2017-04-17 14:50:42</td>\n",
       "      <td>user157607</td>\n",
       "      <td>2019-07-23 16:44:08</td>\n",
       "      <td>None</td>\n",
       "      <td>None</td>\n",
       "      <td>None</td>\n",
       "      <td>0</td>\n",
       "      <td>0</td>\n",
       "      <td>0</td>\n",
       "      <td>https://www.gravatar.com/avatar/2efb161849efa4...</td>\n",
       "      <td>10705183</td>\n",
       "    </tr>\n",
       "    <tr>\n",
       "      <th>1</th>\n",
       "      <td>157656</td>\n",
       "      <td>101</td>\n",
       "      <td>2017-04-17 20:08:20</td>\n",
       "      <td>user102859</td>\n",
       "      <td>2019-06-26 13:42:13</td>\n",
       "      <td>None</td>\n",
       "      <td>None</td>\n",
       "      <td>None</td>\n",
       "      <td>3</td>\n",
       "      <td>0</td>\n",
       "      <td>0</td>\n",
       "      <td>https://i.stack.imgur.com/eY4ka.jpg?s=128&amp;g=1</td>\n",
       "      <td>10567606</td>\n",
       "    </tr>\n",
       "    <tr>\n",
       "      <th>2</th>\n",
       "      <td>157704</td>\n",
       "      <td>133</td>\n",
       "      <td>2017-04-18 05:10:47</td>\n",
       "      <td>jupiar</td>\n",
       "      <td>2019-11-25 13:32:27</td>\n",
       "      <td>None</td>\n",
       "      <td>Shanghai, China</td>\n",
       "      <td>&lt;p&gt;Originally from the U.K, I have an Undergra...</td>\n",
       "      <td>1</td>\n",
       "      <td>1</td>\n",
       "      <td>0</td>\n",
       "      <td>https://www.gravatar.com/avatar/720e20205122c5...</td>\n",
       "      <td>9501631</td>\n",
       "    </tr>\n",
       "    <tr>\n",
       "      <th>3</th>\n",
       "      <td>157709</td>\n",
       "      <td>155</td>\n",
       "      <td>2017-04-18 06:39:18</td>\n",
       "      <td>farmer</td>\n",
       "      <td>2019-02-17 19:44:24</td>\n",
       "      <td>None</td>\n",
       "      <td>None</td>\n",
       "      <td>None</td>\n",
       "      <td>16</td>\n",
       "      <td>0</td>\n",
       "      <td>0</td>\n",
       "      <td>https://www.gravatar.com/avatar/0f8c4bde3d8f25...</td>\n",
       "      <td>10709837</td>\n",
       "    </tr>\n",
       "    <tr>\n",
       "      <th>4</th>\n",
       "      <td>157755</td>\n",
       "      <td>101</td>\n",
       "      <td>2017-04-18 12:56:17</td>\n",
       "      <td>Miki P</td>\n",
       "      <td>2019-08-12 17:02:21</td>\n",
       "      <td>None</td>\n",
       "      <td>None</td>\n",
       "      <td>None</td>\n",
       "      <td>1</td>\n",
       "      <td>9</td>\n",
       "      <td>0</td>\n",
       "      <td>https://www.gravatar.com/avatar/af088558cd81c5...</td>\n",
       "      <td>7969290</td>\n",
       "    </tr>\n",
       "  </tbody>\n",
       "</table>\n",
       "</div>"
      ],
      "text/plain": [
       "       Id  Reputation         CreationDate DisplayName       LastAccessDate  \\\n",
       "0  157607          31  2017-04-17 14:50:42  user157607  2019-07-23 16:44:08   \n",
       "1  157656         101  2017-04-17 20:08:20  user102859  2019-06-26 13:42:13   \n",
       "2  157704         133  2017-04-18 05:10:47      jupiar  2019-11-25 13:32:27   \n",
       "3  157709         155  2017-04-18 06:39:18      farmer  2019-02-17 19:44:24   \n",
       "4  157755         101  2017-04-18 12:56:17      Miki P  2019-08-12 17:02:21   \n",
       "\n",
       "  WebsiteUrl         Location  \\\n",
       "0       None             None   \n",
       "1       None             None   \n",
       "2       None  Shanghai, China   \n",
       "3       None             None   \n",
       "4       None             None   \n",
       "\n",
       "                                             AboutMe  Views  UpVotes  \\\n",
       "0                                               None      0        0   \n",
       "1                                               None      3        0   \n",
       "2  <p>Originally from the U.K, I have an Undergra...      1        1   \n",
       "3                                               None     16        0   \n",
       "4                                               None      1        9   \n",
       "\n",
       "   DownVotes                                    ProfileImageUrl  AccountId  \n",
       "0          0  https://www.gravatar.com/avatar/2efb161849efa4...   10705183  \n",
       "1          0      https://i.stack.imgur.com/eY4ka.jpg?s=128&g=1   10567606  \n",
       "2          0  https://www.gravatar.com/avatar/720e20205122c5...    9501631  \n",
       "3          0  https://www.gravatar.com/avatar/0f8c4bde3d8f25...   10709837  \n",
       "4          0  https://www.gravatar.com/avatar/af088558cd81c5...    7969290  "
      ]
     },
     "execution_count": 213,
     "metadata": {},
     "output_type": "execute_result"
    }
   ],
   "source": [
    "# Load Users into sqlite\n",
    "users.to_sql('users',con, if_exists = 'replace', index=False)\n",
    "\n",
    "#read back \n",
    "sql =\" SELECT * FROM users\"\n",
    "users = pd.read_sql(sql,con)\n",
    "users.head()"
   ]
  },
  {
   "cell_type": "markdown",
   "metadata": {},
   "source": [
    "### **TODO**: Drop Duplicates\n",
    "Look for and drop any duplicates in all 3 of the tables (if they exist). Use Pandas to do this. If you find duplicates, you will need to rewrite the table.\n",
    "\n",
    "<div style=\"background-color:lemonchiffon; border:1px solid; padding:5px; margin:5px; font-weight:bold\"><font color=\"crimson\">\n",
    "TODO: Enter code in the following cells. \n",
    "    </font></div>"
   ]
  },
  {
   "cell_type": "code",
   "execution_count": 214,
   "metadata": {},
   "outputs": [
    {
     "name": "stdout",
     "output_type": "stream",
     "text": [
      "No duplicate rows found comment dataset.\n"
     ]
    }
   ],
   "source": [
    "# Find out if we have any duplicates Comments\n",
    "# Check for duplicate rows based on the 'Id' column\n",
    "duplicate_rows = comments[comments.duplicated(subset =['Id'], keep = False)]\n",
    "\n",
    "\n",
    "# Sort duplicate_rows DataFrame by the \"Id\" column\n",
    "duplicate_rows = duplicate_rows.sort_values(by=['Id'])\n",
    "\n",
    "# Print the duplicate rows if any\n",
    "if not duplicate_rows.empty:\n",
    "    print(\"Duplicate Rows:\")\n",
    "    print(duplicate_rows)\n",
    "else:\n",
    "    print(\"No duplicate rows found comment dataset.\")"
   ]
  },
  {
   "cell_type": "code",
   "execution_count": 215,
   "metadata": {},
   "outputs": [
    {
     "name": "stdout",
     "output_type": "stream",
     "text": [
      "No duplicate rows found in posts dataset.\n"
     ]
    }
   ],
   "source": [
    "# Find out if we have any duplicates Posts\n",
    "# Check for duplicate rows based on the 'Id' column\n",
    "duplicate_rows = posts[posts.duplicated(subset =['Id'], keep = False)]\n",
    "\n",
    "\n",
    "# Sort duplicate_rows DataFrame by the \"Id\" column\n",
    "duplicate_rows = duplicate_rows.sort_values(by=['Id'])\n",
    "\n",
    "# Print the duplicate rows if any\n",
    "if not duplicate_rows.empty:\n",
    "    print(\"Duplicate Rows:\")\n",
    "    print(duplicate_rows)\n",
    "else:\n",
    "    print(\"No duplicate rows found in posts dataset.\")"
   ]
  },
  {
   "cell_type": "code",
   "execution_count": 216,
   "metadata": {},
   "outputs": [
    {
     "name": "stdout",
     "output_type": "stream",
     "text": [
      "No duplicate rows found in users dataset.\n"
     ]
    }
   ],
   "source": [
    "# Find out if we have any duplicates users\n",
    "# Check for duplicate rows based on the 'Id' column\n",
    "duplicate_rows = users[users.duplicated(subset =['Id'], keep = False)]\n",
    "\n",
    "\n",
    "# Sort duplicate_rows DataFrame by the \"Id\" column\n",
    "duplicate_rows = duplicate_rows.sort_values(by=['Id'])\n",
    "\n",
    "# Print the duplicate rows if any\n",
    "if not duplicate_rows.empty:\n",
    "    print(\"Duplicate Rows:\")\n",
    "    print(duplicate_rows)\n",
    "else:\n",
    "    print(\"No duplicate rows found in users dataset.\")"
   ]
  },
  {
   "cell_type": "markdown",
   "metadata": {},
   "source": [
    "## Review the Data\n",
    "\n",
    "Spend some time reviewing the data.  Understand what data we have, think about how that data can be used to assist in the initiative of understanding how ChatData is used in the real world.  Is the data organised in a way that would lend itself to being manged in a relational database?  How would the different tables be connected?  What are the primary and foreign keys?  Would this give you a 3NF model?\n",
    "\n",
    "Also think about security and ethics.  Is there personal data in here?  Could individuals be identified through this data?  It it ethical to use the data in this way?  You will be asked to comment on these questions later!\n",
    "\n",
    "Use the code below to help you."
   ]
  },
  {
   "cell_type": "code",
   "execution_count": 217,
   "metadata": {},
   "outputs": [
    {
     "data": {
      "text/plain": [
       "Index(['Id', 'Reputation', 'CreationDate', 'DisplayName', 'LastAccessDate',\n",
       "       'WebsiteUrl', 'Location', 'AboutMe', 'Views', 'UpVotes', 'DownVotes',\n",
       "       'ProfileImageUrl', 'AccountId'],\n",
       "      dtype='object')"
      ]
     },
     "execution_count": 217,
     "metadata": {},
     "output_type": "execute_result"
    }
   ],
   "source": [
    "users.columns"
   ]
  },
  {
   "cell_type": "code",
   "execution_count": 218,
   "metadata": {},
   "outputs": [
    {
     "data": {
      "text/html": [
       "<div>\n",
       "<style scoped>\n",
       "    .dataframe tbody tr th:only-of-type {\n",
       "        vertical-align: middle;\n",
       "    }\n",
       "\n",
       "    .dataframe tbody tr th {\n",
       "        vertical-align: top;\n",
       "    }\n",
       "\n",
       "    .dataframe thead th {\n",
       "        text-align: right;\n",
       "    }\n",
       "</style>\n",
       "<table border=\"1\" class=\"dataframe\">\n",
       "  <thead>\n",
       "    <tr style=\"text-align: right;\">\n",
       "      <th></th>\n",
       "      <th>Id</th>\n",
       "      <th>Reputation</th>\n",
       "      <th>CreationDate</th>\n",
       "      <th>DisplayName</th>\n",
       "      <th>LastAccessDate</th>\n",
       "      <th>WebsiteUrl</th>\n",
       "      <th>Location</th>\n",
       "      <th>AboutMe</th>\n",
       "      <th>Views</th>\n",
       "      <th>UpVotes</th>\n",
       "      <th>DownVotes</th>\n",
       "      <th>ProfileImageUrl</th>\n",
       "      <th>AccountId</th>\n",
       "    </tr>\n",
       "  </thead>\n",
       "  <tbody>\n",
       "    <tr>\n",
       "      <th>0</th>\n",
       "      <td>157607</td>\n",
       "      <td>31</td>\n",
       "      <td>2017-04-17 14:50:42</td>\n",
       "      <td>user157607</td>\n",
       "      <td>2019-07-23 16:44:08</td>\n",
       "      <td>None</td>\n",
       "      <td>None</td>\n",
       "      <td>None</td>\n",
       "      <td>0</td>\n",
       "      <td>0</td>\n",
       "      <td>0</td>\n",
       "      <td>https://www.gravatar.com/avatar/2efb161849efa4...</td>\n",
       "      <td>10705183</td>\n",
       "    </tr>\n",
       "    <tr>\n",
       "      <th>1</th>\n",
       "      <td>157656</td>\n",
       "      <td>101</td>\n",
       "      <td>2017-04-17 20:08:20</td>\n",
       "      <td>user102859</td>\n",
       "      <td>2019-06-26 13:42:13</td>\n",
       "      <td>None</td>\n",
       "      <td>None</td>\n",
       "      <td>None</td>\n",
       "      <td>3</td>\n",
       "      <td>0</td>\n",
       "      <td>0</td>\n",
       "      <td>https://i.stack.imgur.com/eY4ka.jpg?s=128&amp;g=1</td>\n",
       "      <td>10567606</td>\n",
       "    </tr>\n",
       "    <tr>\n",
       "      <th>2</th>\n",
       "      <td>157704</td>\n",
       "      <td>133</td>\n",
       "      <td>2017-04-18 05:10:47</td>\n",
       "      <td>jupiar</td>\n",
       "      <td>2019-11-25 13:32:27</td>\n",
       "      <td>None</td>\n",
       "      <td>Shanghai, China</td>\n",
       "      <td>&lt;p&gt;Originally from the U.K, I have an Undergra...</td>\n",
       "      <td>1</td>\n",
       "      <td>1</td>\n",
       "      <td>0</td>\n",
       "      <td>https://www.gravatar.com/avatar/720e20205122c5...</td>\n",
       "      <td>9501631</td>\n",
       "    </tr>\n",
       "    <tr>\n",
       "      <th>3</th>\n",
       "      <td>157709</td>\n",
       "      <td>155</td>\n",
       "      <td>2017-04-18 06:39:18</td>\n",
       "      <td>farmer</td>\n",
       "      <td>2019-02-17 19:44:24</td>\n",
       "      <td>None</td>\n",
       "      <td>None</td>\n",
       "      <td>None</td>\n",
       "      <td>16</td>\n",
       "      <td>0</td>\n",
       "      <td>0</td>\n",
       "      <td>https://www.gravatar.com/avatar/0f8c4bde3d8f25...</td>\n",
       "      <td>10709837</td>\n",
       "    </tr>\n",
       "    <tr>\n",
       "      <th>4</th>\n",
       "      <td>157755</td>\n",
       "      <td>101</td>\n",
       "      <td>2017-04-18 12:56:17</td>\n",
       "      <td>Miki P</td>\n",
       "      <td>2019-08-12 17:02:21</td>\n",
       "      <td>None</td>\n",
       "      <td>None</td>\n",
       "      <td>None</td>\n",
       "      <td>1</td>\n",
       "      <td>9</td>\n",
       "      <td>0</td>\n",
       "      <td>https://www.gravatar.com/avatar/af088558cd81c5...</td>\n",
       "      <td>7969290</td>\n",
       "    </tr>\n",
       "  </tbody>\n",
       "</table>\n",
       "</div>"
      ],
      "text/plain": [
       "       Id  Reputation         CreationDate DisplayName       LastAccessDate  \\\n",
       "0  157607          31  2017-04-17 14:50:42  user157607  2019-07-23 16:44:08   \n",
       "1  157656         101  2017-04-17 20:08:20  user102859  2019-06-26 13:42:13   \n",
       "2  157704         133  2017-04-18 05:10:47      jupiar  2019-11-25 13:32:27   \n",
       "3  157709         155  2017-04-18 06:39:18      farmer  2019-02-17 19:44:24   \n",
       "4  157755         101  2017-04-18 12:56:17      Miki P  2019-08-12 17:02:21   \n",
       "\n",
       "  WebsiteUrl         Location  \\\n",
       "0       None             None   \n",
       "1       None             None   \n",
       "2       None  Shanghai, China   \n",
       "3       None             None   \n",
       "4       None             None   \n",
       "\n",
       "                                             AboutMe  Views  UpVotes  \\\n",
       "0                                               None      0        0   \n",
       "1                                               None      3        0   \n",
       "2  <p>Originally from the U.K, I have an Undergra...      1        1   \n",
       "3                                               None     16        0   \n",
       "4                                               None      1        9   \n",
       "\n",
       "   DownVotes                                    ProfileImageUrl  AccountId  \n",
       "0          0  https://www.gravatar.com/avatar/2efb161849efa4...   10705183  \n",
       "1          0      https://i.stack.imgur.com/eY4ka.jpg?s=128&g=1   10567606  \n",
       "2          0  https://www.gravatar.com/avatar/720e20205122c5...    9501631  \n",
       "3          0  https://www.gravatar.com/avatar/0f8c4bde3d8f25...   10709837  \n",
       "4          0  https://www.gravatar.com/avatar/af088558cd81c5...    7969290  "
      ]
     },
     "execution_count": 218,
     "metadata": {},
     "output_type": "execute_result"
    }
   ],
   "source": [
    "users.head()"
   ]
  },
  {
   "cell_type": "code",
   "execution_count": 219,
   "metadata": {},
   "outputs": [
    {
     "data": {
      "text/plain": [
       "Index(['Id', 'PostId', 'Score', 'Text', 'CreationDate', 'UserId'], dtype='object')"
      ]
     },
     "execution_count": 219,
     "metadata": {},
     "output_type": "execute_result"
    }
   ],
   "source": [
    "comments.columns"
   ]
  },
  {
   "cell_type": "code",
   "execution_count": 220,
   "metadata": {},
   "outputs": [
    {
     "data": {
      "text/html": [
       "<div>\n",
       "<style scoped>\n",
       "    .dataframe tbody tr th:only-of-type {\n",
       "        vertical-align: middle;\n",
       "    }\n",
       "\n",
       "    .dataframe tbody tr th {\n",
       "        vertical-align: top;\n",
       "    }\n",
       "\n",
       "    .dataframe thead th {\n",
       "        text-align: right;\n",
       "    }\n",
       "</style>\n",
       "<table border=\"1\" class=\"dataframe\">\n",
       "  <thead>\n",
       "    <tr style=\"text-align: right;\">\n",
       "      <th></th>\n",
       "      <th>Id</th>\n",
       "      <th>PostId</th>\n",
       "      <th>Score</th>\n",
       "      <th>Text</th>\n",
       "      <th>CreationDate</th>\n",
       "      <th>UserId</th>\n",
       "    </tr>\n",
       "  </thead>\n",
       "  <tbody>\n",
       "    <tr>\n",
       "      <th>0</th>\n",
       "      <td>723182</td>\n",
       "      <td>385124</td>\n",
       "      <td>0</td>\n",
       "      <td>@BenBolker I don't understand. The fit cannot ...</td>\n",
       "      <td>2019-01-01 00:06:39</td>\n",
       "      <td>78575</td>\n",
       "    </tr>\n",
       "    <tr>\n",
       "      <th>1</th>\n",
       "      <td>723183</td>\n",
       "      <td>385124</td>\n",
       "      <td>3</td>\n",
       "      <td>You can't add *less* than (`-min(y)`), but you...</td>\n",
       "      <td>2019-01-01 00:09:22</td>\n",
       "      <td>2126</td>\n",
       "    </tr>\n",
       "    <tr>\n",
       "      <th>2</th>\n",
       "      <td>723186</td>\n",
       "      <td>385137</td>\n",
       "      <td>0</td>\n",
       "      <td>nice. If you felt like doing the work it would...</td>\n",
       "      <td>2019-01-01 00:32:11</td>\n",
       "      <td>2126</td>\n",
       "    </tr>\n",
       "    <tr>\n",
       "      <th>3</th>\n",
       "      <td>723187</td>\n",
       "      <td>385137</td>\n",
       "      <td>0</td>\n",
       "      <td>i.e. `emdbook::curve3d(-sum(dnbinom(y,mu=mu,si...</td>\n",
       "      <td>2019-01-01 00:40:36</td>\n",
       "      <td>2126</td>\n",
       "    </tr>\n",
       "    <tr>\n",
       "      <th>4</th>\n",
       "      <td>723188</td>\n",
       "      <td>385134</td>\n",
       "      <td>0</td>\n",
       "      <td>Don't you mean \"so variance should be $\\sigma^...</td>\n",
       "      <td>2019-01-01 00:41:28</td>\n",
       "      <td>112141</td>\n",
       "    </tr>\n",
       "  </tbody>\n",
       "</table>\n",
       "</div>"
      ],
      "text/plain": [
       "       Id  PostId  Score                                               Text  \\\n",
       "0  723182  385124      0  @BenBolker I don't understand. The fit cannot ...   \n",
       "1  723183  385124      3  You can't add *less* than (`-min(y)`), but you...   \n",
       "2  723186  385137      0  nice. If you felt like doing the work it would...   \n",
       "3  723187  385137      0  i.e. `emdbook::curve3d(-sum(dnbinom(y,mu=mu,si...   \n",
       "4  723188  385134      0  Don't you mean \"so variance should be $\\sigma^...   \n",
       "\n",
       "          CreationDate  UserId  \n",
       "0  2019-01-01 00:06:39   78575  \n",
       "1  2019-01-01 00:09:22    2126  \n",
       "2  2019-01-01 00:32:11    2126  \n",
       "3  2019-01-01 00:40:36    2126  \n",
       "4  2019-01-01 00:41:28  112141  "
      ]
     },
     "execution_count": 220,
     "metadata": {},
     "output_type": "execute_result"
    }
   ],
   "source": [
    "comments.head()"
   ]
  },
  {
   "cell_type": "code",
   "execution_count": 221,
   "metadata": {},
   "outputs": [
    {
     "data": {
      "text/plain": [
       "Index(['Id', 'PostTypeId', 'AcceptedAnswerId', 'ParentId', 'CreationDate',\n",
       "       'Score', 'ViewCount', 'Body', 'OwnerUserId', 'OwnerDisplayName',\n",
       "       'LastEditorUserId', 'LastEditorDisplayName', 'LastEditDate',\n",
       "       'LastActivityDate', 'Title', 'Tags', 'AnswerCount', 'CommentCount',\n",
       "       'FavoriteCount', 'ClosedDate', 'CommunityOwnedDate'],\n",
       "      dtype='object')"
      ]
     },
     "execution_count": 221,
     "metadata": {},
     "output_type": "execute_result"
    }
   ],
   "source": [
    "posts.columns"
   ]
  },
  {
   "cell_type": "code",
   "execution_count": 222,
   "metadata": {},
   "outputs": [
    {
     "data": {
      "text/html": [
       "<div>\n",
       "<style scoped>\n",
       "    .dataframe tbody tr th:only-of-type {\n",
       "        vertical-align: middle;\n",
       "    }\n",
       "\n",
       "    .dataframe tbody tr th {\n",
       "        vertical-align: top;\n",
       "    }\n",
       "\n",
       "    .dataframe thead th {\n",
       "        text-align: right;\n",
       "    }\n",
       "</style>\n",
       "<table border=\"1\" class=\"dataframe\">\n",
       "  <thead>\n",
       "    <tr style=\"text-align: right;\">\n",
       "      <th></th>\n",
       "      <th>Id</th>\n",
       "      <th>PostTypeId</th>\n",
       "      <th>AcceptedAnswerId</th>\n",
       "      <th>ParentId</th>\n",
       "      <th>CreationDate</th>\n",
       "      <th>Score</th>\n",
       "      <th>ViewCount</th>\n",
       "      <th>Body</th>\n",
       "      <th>OwnerUserId</th>\n",
       "      <th>OwnerDisplayName</th>\n",
       "      <th>...</th>\n",
       "      <th>LastEditorDisplayName</th>\n",
       "      <th>LastEditDate</th>\n",
       "      <th>LastActivityDate</th>\n",
       "      <th>Title</th>\n",
       "      <th>Tags</th>\n",
       "      <th>AnswerCount</th>\n",
       "      <th>CommentCount</th>\n",
       "      <th>FavoriteCount</th>\n",
       "      <th>ClosedDate</th>\n",
       "      <th>CommunityOwnedDate</th>\n",
       "    </tr>\n",
       "  </thead>\n",
       "  <tbody>\n",
       "    <tr>\n",
       "      <th>0</th>\n",
       "      <td>423497</td>\n",
       "      <td>1</td>\n",
       "      <td>423511</td>\n",
       "      <td>0</td>\n",
       "      <td>2019-08-24 09:39:31</td>\n",
       "      <td>2</td>\n",
       "      <td>68</td>\n",
       "      <td>&lt;p&gt;From wikipedia &lt;a href=\"https://en.wikipedi...</td>\n",
       "      <td>64552</td>\n",
       "      <td>None</td>\n",
       "      <td>...</td>\n",
       "      <td>None</td>\n",
       "      <td>None</td>\n",
       "      <td>2019-08-24 11:38:54</td>\n",
       "      <td>When are biased estimators with lower MSE pref...</td>\n",
       "      <td>&lt;bias&gt;&lt;unbiased-estimator&gt;&lt;mse&gt;</td>\n",
       "      <td>1</td>\n",
       "      <td>0</td>\n",
       "      <td>1</td>\n",
       "      <td>2019-08-25 10:25:24</td>\n",
       "      <td>None</td>\n",
       "    </tr>\n",
       "    <tr>\n",
       "      <th>1</th>\n",
       "      <td>423498</td>\n",
       "      <td>1</td>\n",
       "      <td>0</td>\n",
       "      <td>0</td>\n",
       "      <td>2019-08-24 09:47:42</td>\n",
       "      <td>1</td>\n",
       "      <td>24</td>\n",
       "      <td>&lt;p&gt;I am currently doing local sensitivity anal...</td>\n",
       "      <td>87231</td>\n",
       "      <td>None</td>\n",
       "      <td>...</td>\n",
       "      <td>None</td>\n",
       "      <td>2019-09-06 12:52:32</td>\n",
       "      <td>2019-09-06 12:52:32</td>\n",
       "      <td>How to interpret the result from local sensiti...</td>\n",
       "      <td>&lt;sensitivity-analysis&gt;&lt;elasticity&gt;</td>\n",
       "      <td>1</td>\n",
       "      <td>0</td>\n",
       "      <td>0</td>\n",
       "      <td>None</td>\n",
       "      <td>None</td>\n",
       "    </tr>\n",
       "    <tr>\n",
       "      <th>2</th>\n",
       "      <td>423499</td>\n",
       "      <td>1</td>\n",
       "      <td>0</td>\n",
       "      <td>0</td>\n",
       "      <td>2019-08-24 09:48:26</td>\n",
       "      <td>1</td>\n",
       "      <td>56</td>\n",
       "      <td>&lt;p&gt;I'm an honours student in psychology doing ...</td>\n",
       "      <td>257207</td>\n",
       "      <td>None</td>\n",
       "      <td>...</td>\n",
       "      <td>None</td>\n",
       "      <td>None</td>\n",
       "      <td>2019-08-25 08:54:17</td>\n",
       "      <td>Power Analysis in G-Power - Mixed Model Anova</td>\n",
       "      <td>&lt;anova&gt;&lt;gpower&gt;</td>\n",
       "      <td>2</td>\n",
       "      <td>0</td>\n",
       "      <td>0</td>\n",
       "      <td>None</td>\n",
       "      <td>None</td>\n",
       "    </tr>\n",
       "    <tr>\n",
       "      <th>3</th>\n",
       "      <td>423500</td>\n",
       "      <td>2</td>\n",
       "      <td>0</td>\n",
       "      <td>215865</td>\n",
       "      <td>2019-08-24 09:57:01</td>\n",
       "      <td>0</td>\n",
       "      <td>0</td>\n",
       "      <td>&lt;p&gt;Maybe you can look this &lt;a href=\"https://me...</td>\n",
       "      <td>106606</td>\n",
       "      <td>None</td>\n",
       "      <td>...</td>\n",
       "      <td>None</td>\n",
       "      <td>None</td>\n",
       "      <td>2019-08-24 09:57:01</td>\n",
       "      <td>None</td>\n",
       "      <td>None</td>\n",
       "      <td>0</td>\n",
       "      <td>0</td>\n",
       "      <td>0</td>\n",
       "      <td>None</td>\n",
       "      <td>None</td>\n",
       "    </tr>\n",
       "    <tr>\n",
       "      <th>4</th>\n",
       "      <td>423502</td>\n",
       "      <td>2</td>\n",
       "      <td>0</td>\n",
       "      <td>423286</td>\n",
       "      <td>2019-08-24 10:44:52</td>\n",
       "      <td>3</td>\n",
       "      <td>0</td>\n",
       "      <td>&lt;blockquote&gt;\\n  &lt;p&gt;Q1) Is my approach valid?&lt;/...</td>\n",
       "      <td>220643</td>\n",
       "      <td>None</td>\n",
       "      <td>...</td>\n",
       "      <td>None</td>\n",
       "      <td>2019-08-24 12:13:46</td>\n",
       "      <td>2019-08-24 12:13:46</td>\n",
       "      <td>None</td>\n",
       "      <td>None</td>\n",
       "      <td>0</td>\n",
       "      <td>1</td>\n",
       "      <td>0</td>\n",
       "      <td>None</td>\n",
       "      <td>None</td>\n",
       "    </tr>\n",
       "  </tbody>\n",
       "</table>\n",
       "<p>5 rows × 21 columns</p>\n",
       "</div>"
      ],
      "text/plain": [
       "       Id  PostTypeId  AcceptedAnswerId  ParentId         CreationDate  Score  \\\n",
       "0  423497           1            423511         0  2019-08-24 09:39:31      2   \n",
       "1  423498           1                 0         0  2019-08-24 09:47:42      1   \n",
       "2  423499           1                 0         0  2019-08-24 09:48:26      1   \n",
       "3  423500           2                 0    215865  2019-08-24 09:57:01      0   \n",
       "4  423502           2                 0    423286  2019-08-24 10:44:52      3   \n",
       "\n",
       "   ViewCount                                               Body  OwnerUserId  \\\n",
       "0         68  <p>From wikipedia <a href=\"https://en.wikipedi...        64552   \n",
       "1         24  <p>I am currently doing local sensitivity anal...        87231   \n",
       "2         56  <p>I'm an honours student in psychology doing ...       257207   \n",
       "3          0  <p>Maybe you can look this <a href=\"https://me...       106606   \n",
       "4          0  <blockquote>\\n  <p>Q1) Is my approach valid?</...       220643   \n",
       "\n",
       "  OwnerDisplayName  ...  LastEditorDisplayName         LastEditDate  \\\n",
       "0             None  ...                   None                 None   \n",
       "1             None  ...                   None  2019-09-06 12:52:32   \n",
       "2             None  ...                   None                 None   \n",
       "3             None  ...                   None                 None   \n",
       "4             None  ...                   None  2019-08-24 12:13:46   \n",
       "\n",
       "      LastActivityDate                                              Title  \\\n",
       "0  2019-08-24 11:38:54  When are biased estimators with lower MSE pref...   \n",
       "1  2019-09-06 12:52:32  How to interpret the result from local sensiti...   \n",
       "2  2019-08-25 08:54:17      Power Analysis in G-Power - Mixed Model Anova   \n",
       "3  2019-08-24 09:57:01                                               None   \n",
       "4  2019-08-24 12:13:46                                               None   \n",
       "\n",
       "                                 Tags AnswerCount  CommentCount  \\\n",
       "0     <bias><unbiased-estimator><mse>           1             0   \n",
       "1  <sensitivity-analysis><elasticity>           1             0   \n",
       "2                     <anova><gpower>           2             0   \n",
       "3                                None           0             0   \n",
       "4                                None           0             1   \n",
       "\n",
       "   FavoriteCount           ClosedDate CommunityOwnedDate  \n",
       "0              1  2019-08-25 10:25:24               None  \n",
       "1              0                 None               None  \n",
       "2              0                 None               None  \n",
       "3              0                 None               None  \n",
       "4              0                 None               None  \n",
       "\n",
       "[5 rows x 21 columns]"
      ]
     },
     "execution_count": 222,
     "metadata": {},
     "output_type": "execute_result"
    }
   ],
   "source": [
    "posts.head()"
   ]
  },
  {
   "cell_type": "markdown",
   "metadata": {},
   "source": [
    "# Working with Sqlite and SQL Magic\n",
    "In this section let's spend a little time understanding a bit more about how we can work with Sqlite within Jupyter.\n",
    "\n",
    "Let's look at 2 ways to query the sqlite database: using SQL Magic or using Pandas.  Either way is fine for this project."
   ]
  },
  {
   "cell_type": "markdown",
   "metadata": {},
   "source": [
    "## Writing queries with SQL Magic\n",
    "\n",
    "You will now need to write some queries to get answers to the questions in the requirements.  \n",
    "\n",
    "For single-line queries, start the cell with `%sql` and simply enter your query:"
   ]
  },
  {
   "cell_type": "code",
   "execution_count": 223,
   "metadata": {},
   "outputs": [
    {
     "name": "stdout",
     "output_type": "stream",
     "text": [
      " * sqlite:///chatdata.db\n",
      "Done.\n"
     ]
    },
    {
     "data": {
      "text/html": [
       "<table>\n",
       "    <tr>\n",
       "        <th>COUNT(*)</th>\n",
       "    </tr>\n",
       "    <tr>\n",
       "        <td>50000</td>\n",
       "    </tr>\n",
       "</table>"
      ],
      "text/plain": [
       "[(50000,)]"
      ]
     },
     "execution_count": 223,
     "metadata": {},
     "output_type": "execute_result"
    }
   ],
   "source": [
    "# This is an example\n",
    "%sql SELECT COUNT(*) FROM comments"
   ]
  },
  {
   "cell_type": "markdown",
   "metadata": {},
   "source": [
    "For multi line sql statements use `%%sql` as follows. This tells Jupyter that *everything* in this cell should be interpreted as sql. So, NO comments other statements are allowed:"
   ]
  },
  {
   "cell_type": "code",
   "execution_count": 224,
   "metadata": {},
   "outputs": [
    {
     "name": "stdout",
     "output_type": "stream",
     "text": [
      " * sqlite:///chatdata.db\n",
      "Done.\n"
     ]
    },
    {
     "data": {
      "text/html": [
       "<table>\n",
       "    <tr>\n",
       "        <th>Id</th>\n",
       "        <th>PostId</th>\n",
       "        <th>Score</th>\n",
       "        <th>Text</th>\n",
       "    </tr>\n",
       "    <tr>\n",
       "        <td>723182</td>\n",
       "        <td>385124</td>\n",
       "        <td>0</td>\n",
       "        <td>@BenBolker I don&#x27;t understand. The fit cannot be done for the negative $y$. So intuitively I&#x27;d think that in order to retain the relativity of the data, one&#x27;d ideally &quot;mirror&quot; or &quot;flip&quot; it to the positive axis? Would it be possible to adjust every point individually? Basically e.g. take $abs(y_i)$ instead of minimums.</td>\n",
       "    </tr>\n",
       "    <tr>\n",
       "        <td>723183</td>\n",
       "        <td>385124</td>\n",
       "        <td>3</td>\n",
       "        <td>You can&#x27;t add *less* than (`-min(y)`), but you could add *more*. I&#x27;m going to stop answering now sorry, because **judging what the &#x27;best&#x27; approach is depends on much more context that we don&#x27;t have** (the goal of the analysis, why you need to fit an exponential, your level of computational and statistical sophistication and that of your audience, etc. ...)</td>\n",
       "    </tr>\n",
       "    <tr>\n",
       "        <td>723186</td>\n",
       "        <td>385137</td>\n",
       "        <td>0</td>\n",
       "        <td>nice. If you felt like doing the work it would be nice to generate an image/contour plot of log-likelihood as a function of (mu, theta) and show the lines corresponding to the two `size` values .</td>\n",
       "    </tr>\n",
       "    <tr>\n",
       "        <td>723187</td>\n",
       "        <td>385137</td>\n",
       "        <td>0</td>\n",
       "        <td>i.e. `emdbook::curve3d(-sum(dnbinom(y,mu=mu,size=size,log=TRUE)),<br>                 xlim=c(2,5),ylim=c(0.2,0.5),<br>                 varnames=c(&quot;mu&quot;,&quot;size&quot;),<br>                 sys3d=&quot;contour&quot;)<br>abline(h=3.2/7,col=&quot;red&quot;)<br>abline(h=fit.what$theta,col=&quot;blue&quot;)<br>` ... although doesn&#x27;t look this is actually the answer - mu-hat is independent of theta-hat ... ?</td>\n",
       "    </tr>\n",
       "    <tr>\n",
       "        <td>723188</td>\n",
       "        <td>385134</td>\n",
       "        <td>0</td>\n",
       "        <td>Don&#x27;t you mean &quot;so variance should be $\\sigma^2/(n\\mu^2)$&quot;</td>\n",
       "    </tr>\n",
       "</table>"
      ],
      "text/plain": [
       "[(723182, 385124, 0, '@BenBolker I don\\'t understand. The fit cannot be done for the negative $y$. So intuitively I\\'d think that in order to retain the relativity of the  ... (24 characters truncated) ... rror\" or \"flip\" it to the positive axis? Would it be possible to adjust every point individually? Basically e.g. take $abs(y_i)$ instead of minimums.'),\n",
       " (723183, 385124, 3, \"You can't add *less* than (`-min(y)`), but you could add *more*. I'm going to stop answering now sorry, because **judging what the 'best' approach is ... (60 characters truncated) ...  of the analysis, why you need to fit an exponential, your level of computational and statistical sophistication and that of your audience, etc. ...)\"),\n",
       " (723186, 385137, 0, 'nice. If you felt like doing the work it would be nice to generate an image/contour plot of log-likelihood as a function of (mu, theta) and show the lines corresponding to the two `size` values .'),\n",
       " (723187, 385137, 0, 'i.e. `emdbook::curve3d(-sum(dnbinom(y,mu=mu,size=size,log=TRUE)),\\n                 xlim=c(2,5),ylim=c(0.2,0.5),\\n                 varnames=c(\"mu\",\"s ... (57 characters truncated) ... ,col=\"red\")\\nabline(h=fit.what$theta,col=\"blue\")\\n` ... although doesn\\'t look this is actually the answer - mu-hat is independent of theta-hat ... ?'),\n",
       " (723188, 385134, 0, 'Don\\'t you mean \"so variance should be $\\\\sigma^2/(n\\\\mu^2)$\"')]"
      ]
     },
     "execution_count": 224,
     "metadata": {},
     "output_type": "execute_result"
    }
   ],
   "source": [
    "%%sql\n",
    "SELECT Id, PostId, Score, Text\n",
    "    FROM comments\n",
    "        LIMIT 5"
   ]
  },
  {
   "cell_type": "markdown",
   "metadata": {},
   "source": [
    "## Writing queries with Pandas\n",
    "Another way to write queries is to use pandas:"
   ]
  },
  {
   "cell_type": "code",
   "execution_count": 225,
   "metadata": {
    "scrolled": true
   },
   "outputs": [
    {
     "data": {
      "text/html": [
       "<div>\n",
       "<style scoped>\n",
       "    .dataframe tbody tr th:only-of-type {\n",
       "        vertical-align: middle;\n",
       "    }\n",
       "\n",
       "    .dataframe tbody tr th {\n",
       "        vertical-align: top;\n",
       "    }\n",
       "\n",
       "    .dataframe thead th {\n",
       "        text-align: right;\n",
       "    }\n",
       "</style>\n",
       "<table border=\"1\" class=\"dataframe\">\n",
       "  <thead>\n",
       "    <tr style=\"text-align: right;\">\n",
       "      <th></th>\n",
       "      <th>Id</th>\n",
       "      <th>PostId</th>\n",
       "      <th>Score</th>\n",
       "      <th>Text</th>\n",
       "    </tr>\n",
       "  </thead>\n",
       "  <tbody>\n",
       "    <tr>\n",
       "      <th>0</th>\n",
       "      <td>723182</td>\n",
       "      <td>385124</td>\n",
       "      <td>0</td>\n",
       "      <td>@BenBolker I don't understand. The fit cannot ...</td>\n",
       "    </tr>\n",
       "    <tr>\n",
       "      <th>1</th>\n",
       "      <td>723183</td>\n",
       "      <td>385124</td>\n",
       "      <td>3</td>\n",
       "      <td>You can't add *less* than (`-min(y)`), but you...</td>\n",
       "    </tr>\n",
       "    <tr>\n",
       "      <th>2</th>\n",
       "      <td>723186</td>\n",
       "      <td>385137</td>\n",
       "      <td>0</td>\n",
       "      <td>nice. If you felt like doing the work it would...</td>\n",
       "    </tr>\n",
       "    <tr>\n",
       "      <th>3</th>\n",
       "      <td>723187</td>\n",
       "      <td>385137</td>\n",
       "      <td>0</td>\n",
       "      <td>i.e. `emdbook::curve3d(-sum(dnbinom(y,mu=mu,si...</td>\n",
       "    </tr>\n",
       "    <tr>\n",
       "      <th>4</th>\n",
       "      <td>723188</td>\n",
       "      <td>385134</td>\n",
       "      <td>0</td>\n",
       "      <td>Don't you mean \"so variance should be $\\sigma^...</td>\n",
       "    </tr>\n",
       "  </tbody>\n",
       "</table>\n",
       "</div>"
      ],
      "text/plain": [
       "       Id  PostId  Score                                               Text\n",
       "0  723182  385124      0  @BenBolker I don't understand. The fit cannot ...\n",
       "1  723183  385124      3  You can't add *less* than (`-min(y)`), but you...\n",
       "2  723186  385137      0  nice. If you felt like doing the work it would...\n",
       "3  723187  385137      0  i.e. `emdbook::curve3d(-sum(dnbinom(y,mu=mu,si...\n",
       "4  723188  385134      0  Don't you mean \"so variance should be $\\sigma^..."
      ]
     },
     "execution_count": 225,
     "metadata": {},
     "output_type": "execute_result"
    }
   ],
   "source": [
    "sql = \"\"\"\n",
    "SELECT Id, PostId, Score, Text\n",
    "    FROM comments\n",
    "        LIMIT 5\n",
    "        \"\"\"\n",
    "result = pd.read_sql(sql, con)\n",
    "result"
   ]
  },
  {
   "cell_type": "markdown",
   "metadata": {},
   "source": [
    "# Creating Tables with Referential Integrity"
   ]
  },
  {
   "cell_type": "markdown",
   "metadata": {},
   "source": [
    "When we loaded the csv files into Sqlite database tables, Sqlite created the tables for us behind the scenes. Let's inspect this a bit more.\n",
    "\n",
    "We can see how Sqlite created the tables by querying the `sqlite_master` table, which Sqlite uses to keep track of what objects have been created in the database:"
   ]
  },
  {
   "cell_type": "code",
   "execution_count": 226,
   "metadata": {},
   "outputs": [
    {
     "name": "stdout",
     "output_type": "stream",
     "text": [
      " * sqlite:///chatdata.db\n",
      "Done.\n"
     ]
    },
    {
     "data": {
      "text/html": [
       "<table>\n",
       "    <tr>\n",
       "        <th>sql</th>\n",
       "    </tr>\n",
       "    <tr>\n",
       "        <td>CREATE TABLE &quot;comments&quot; (<br>&quot;Id&quot; INTEGER,<br>  &quot;PostId&quot; INTEGER,<br>  &quot;Score&quot; INTEGER,<br>  &quot;Text&quot; TEXT,<br>  &quot;CreationDate&quot; TEXT,<br>  &quot;UserId&quot; INTEGER<br>)</td>\n",
       "    </tr>\n",
       "    <tr>\n",
       "        <td>CREATE TABLE &quot;posts&quot; (<br>&quot;Id&quot; INTEGER,<br>  &quot;PostTypeId&quot; INTEGER,<br>  &quot;AcceptedAnswerId&quot; INTEGER,<br>  &quot;ParentId&quot; INTEGER,<br>  &quot;CreationDate&quot; TEXT,<br>  &quot;Score&quot; INTEGER,<br>  &quot;ViewCount&quot; INTEGER,<br>  &quot;Body&quot; TEXT,<br>  &quot;OwnerUserId&quot; INTEGER,<br>  &quot;OwnerDisplayName&quot; TEXT,<br>  &quot;LastEditorUserId&quot; INTEGER,<br>  &quot;LastEditorDisplayName&quot; TEXT,<br>  &quot;LastEditDate&quot; TEXT,<br>  &quot;LastActivityDate&quot; TEXT,<br>  &quot;Title&quot; TEXT,<br>  &quot;Tags&quot; TEXT,<br>  &quot;AnswerCount&quot; INTEGER,<br>  &quot;CommentCount&quot; INTEGER,<br>  &quot;FavoriteCount&quot; INTEGER,<br>  &quot;ClosedDate&quot; TEXT,<br>  &quot;CommunityOwnedDate&quot; TEXT<br>)</td>\n",
       "    </tr>\n",
       "    <tr>\n",
       "        <td>CREATE TABLE &quot;users&quot; (<br>&quot;Id&quot; INTEGER,<br>  &quot;Reputation&quot; INTEGER,<br>  &quot;CreationDate&quot; TEXT,<br>  &quot;DisplayName&quot; TEXT,<br>  &quot;LastAccessDate&quot; TEXT,<br>  &quot;WebsiteUrl&quot; TEXT,<br>  &quot;Location&quot; TEXT,<br>  &quot;AboutMe&quot; TEXT,<br>  &quot;Views&quot; INTEGER,<br>  &quot;UpVotes&quot; INTEGER,<br>  &quot;DownVotes&quot; INTEGER,<br>  &quot;ProfileImageUrl&quot; TEXT,<br>  &quot;AccountId&quot; INTEGER<br>)</td>\n",
       "    </tr>\n",
       "</table>"
      ],
      "text/plain": [
       "[('CREATE TABLE \"comments\" (\\n\"Id\" INTEGER,\\n  \"PostId\" INTEGER,\\n  \"Score\" INTEGER,\\n  \"Text\" TEXT,\\n  \"CreationDate\" TEXT,\\n  \"UserId\" INTEGER\\n)',),\n",
       " ('CREATE TABLE \"posts\" (\\n\"Id\" INTEGER,\\n  \"PostTypeId\" INTEGER,\\n  \"AcceptedAnswerId\" INTEGER,\\n  \"ParentId\" INTEGER,\\n  \"CreationDate\" TEXT,\\n  \"Scor ... (240 characters truncated) ...   \"Tags\" TEXT,\\n  \"AnswerCount\" INTEGER,\\n  \"CommentCount\" INTEGER,\\n  \"FavoriteCount\" INTEGER,\\n  \"ClosedDate\" TEXT,\\n  \"CommunityOwnedDate\" TEXT\\n)',),\n",
       " ('CREATE TABLE \"users\" (\\n\"Id\" INTEGER,\\n  \"Reputation\" INTEGER,\\n  \"CreationDate\" TEXT,\\n  \"DisplayName\" TEXT,\\n  \"LastAccessDate\" TEXT,\\n  \"WebsiteUr ... (17 characters truncated) ... tion\" TEXT,\\n  \"AboutMe\" TEXT,\\n  \"Views\" INTEGER,\\n  \"UpVotes\" INTEGER,\\n  \"DownVotes\" INTEGER,\\n  \"ProfileImageUrl\" TEXT,\\n  \"AccountId\" INTEGER\\n)',)]"
      ]
     },
     "execution_count": 226,
     "metadata": {},
     "output_type": "execute_result"
    }
   ],
   "source": [
    "%%sql\n",
    "select sql from sqlite_master"
   ]
  },
  {
   "cell_type": "markdown",
   "metadata": {},
   "source": [
    "The above results show the `CREATE TABLE` statements that could be used by Sqlite to recreate the tables with the exact same structure.\n",
    "\n",
    "The problem with the CREATE TABLE statements above is that they don't enforce **referential integrity**.  In other words, they don't ensure that every UserId and PostId in the comments table refers to an actual UserId and PostId in the users and posts tables.  At the moment. we can insert any old number here, and even have multiple users with the same Id!  One of the advantages of working with relational databases is that they can enforce the correct uniqueness and relationships in the data, but at the moment we are not using that feature.  So let's fix that...\n",
    "\n",
    "First, let's drop the original tables:\n"
   ]
  },
  {
   "cell_type": "code",
   "execution_count": 227,
   "metadata": {},
   "outputs": [
    {
     "name": "stdout",
     "output_type": "stream",
     "text": [
      " * sqlite:///chatdata.db\n",
      "Done.\n",
      "Done.\n",
      "Done.\n"
     ]
    },
    {
     "data": {
      "text/plain": [
       "[]"
      ]
     },
     "execution_count": 227,
     "metadata": {},
     "output_type": "execute_result"
    }
   ],
   "source": [
    "%%sql\n",
    "DROP TABLE comments;\n",
    "DROP TABLE users;\n",
    "DROP TABLE posts;"
   ]
  },
  {
   "cell_type": "markdown",
   "metadata": {},
   "source": [
    "Prove that this worked by selecting the names of the tables back.  We should have no tables:"
   ]
  },
  {
   "cell_type": "code",
   "execution_count": 228,
   "metadata": {},
   "outputs": [
    {
     "name": "stdout",
     "output_type": "stream",
     "text": [
      " * sqlite:///chatdata.db\n",
      "Done.\n"
     ]
    },
    {
     "data": {
      "text/html": [
       "<table>\n",
       "    <tr>\n",
       "        <th>name</th>\n",
       "    </tr>\n",
       "</table>"
      ],
      "text/plain": [
       "[]"
      ]
     },
     "execution_count": 228,
     "metadata": {},
     "output_type": "execute_result"
    }
   ],
   "source": [
    "%%sql\n",
    "SELECT name FROM sqlite_master WHERE type='table'\n",
    "    ORDER BY name"
   ]
  },
  {
   "cell_type": "markdown",
   "metadata": {},
   "source": [
    "In Sqlite we need to enable the enforcement of foreign key constraints:"
   ]
  },
  {
   "cell_type": "code",
   "execution_count": 229,
   "metadata": {},
   "outputs": [
    {
     "name": "stdout",
     "output_type": "stream",
     "text": [
      " * sqlite:///chatdata.db\n",
      "Done.\n"
     ]
    },
    {
     "data": {
      "text/plain": [
       "[]"
      ]
     },
     "execution_count": 229,
     "metadata": {},
     "output_type": "execute_result"
    }
   ],
   "source": [
    "%%sql\n",
    "PRAGMA foreign_keys=ON;"
   ]
  },
  {
   "cell_type": "markdown",
   "metadata": {},
   "source": [
    "Now recreate the users table with a **primary key constraint** by copying the CREATE TABLE statement from above and adding the NOT NULL PRIMARY KEY clause to the Id:"
   ]
  },
  {
   "cell_type": "code",
   "execution_count": 230,
   "metadata": {},
   "outputs": [
    {
     "name": "stdout",
     "output_type": "stream",
     "text": [
      " * sqlite:///chatdata.db\n",
      "(sqlite3.OperationalError) no such table: users\n",
      "[SQL: DROP TABLE \"users\";]\n",
      "(Background on this error at: http://sqlalche.me/e/e3q8)\n"
     ]
    }
   ],
   "source": [
    "%%sql\n",
    "DROP TABLE \"users\";"
   ]
  },
  {
   "cell_type": "code",
   "execution_count": 231,
   "metadata": {
    "scrolled": true
   },
   "outputs": [
    {
     "name": "stdout",
     "output_type": "stream",
     "text": [
      " * sqlite:///chatdata.db\n",
      "Done.\n"
     ]
    },
    {
     "data": {
      "text/plain": [
       "[]"
      ]
     },
     "execution_count": 231,
     "metadata": {},
     "output_type": "execute_result"
    }
   ],
   "source": [
    "%%sql\n",
    "CREATE TABLE \"users\" (\n",
    "\"Id\" INTEGER NOT NULL PRIMARY KEY,\n",
    "\"Reputation\" INTEGER,\n",
    "\"CreationDate\" TEXT,\n",
    "\"DisplayName\" TEXT,\n",
    "\"LastAccessDate\" TEXT,\n",
    "\"WebsiteUrl\" TEXT,\n",
    "\"Location\" TEXT,\n",
    "\"AboutMe\" TEXT,\n",
    "\"Views\" INTEGER,\n",
    "\"UpVotes\" INTEGER,\n",
    "\"DownVotes\" INTEGER,\n",
    "\"ProfileImageUrl\" TEXT,\n",
    "\"AccountId\" INTEGER\n",
    ");\n"
   ]
  },
  {
   "cell_type": "markdown",
   "metadata": {},
   "source": [
    "Now do the same for the posts table:\n",
    "\n",
    "<div style=\"background-color:lemonchiffon; border:1px solid; padding:5px; margin:5px; font-weight:bold\"><font color=\"crimson\">\n",
    "TODO: Complete the following code cell\n",
    "    </font></div>"
   ]
  },
  {
   "cell_type": "code",
   "execution_count": 232,
   "metadata": {},
   "outputs": [
    {
     "name": "stdout",
     "output_type": "stream",
     "text": [
      " * sqlite:///chatdata.db\n",
      "(sqlite3.OperationalError) no such table: posts\n",
      "[SQL: DROP TABLE \"posts\";]\n",
      "(Background on this error at: http://sqlalche.me/e/e3q8)\n"
     ]
    }
   ],
   "source": [
    "%%sql\n",
    "DROP TABLE \"posts\";"
   ]
  },
  {
   "cell_type": "code",
   "execution_count": 235,
   "metadata": {},
   "outputs": [
    {
     "name": "stdout",
     "output_type": "stream",
     "text": [
      " * sqlite:///chatdata.db\n",
      "Done.\n"
     ]
    },
    {
     "data": {
      "text/plain": [
       "[]"
      ]
     },
     "execution_count": 235,
     "metadata": {},
     "output_type": "execute_result"
    }
   ],
   "source": [
    "# Run the CREATE TABLE statement for the posts table, including the primary key constraint\n",
    "# TODO\n",
    "%%sql CREATE TABLE \"posts\"( \n",
    "    \"Id\" INTEGER NOT NULL PRIMARY KEY,\n",
    "    \"PostTypeId\" INTEGER,\n",
    "    \"AcceptedAnswerId\" INTEGER,\n",
    "    \"ParentId\" INTEGER,\n",
    "    \"CreationDate\" TEXT,\n",
    "    \"Score\" INTEGER,\n",
    "    \"ViewCount\" INTEGER,\n",
    "    \"Body\" TEXT,\n",
    "    \"OwnerUserId\" INTEGER,\n",
    "    \"OwnerDisplayName\" TEXT,\n",
    "    \"LastEditorUserId\" INTEGER,\n",
    "    \"LastEditorDisplayName\" TEXT,\n",
    "    \"LastEditDate\" TEXT,\n",
    "    \"LastActivityDate\" TEXT,\n",
    "    \"Title\" TEXT,\n",
    "    \"Tags\" TEXT,\n",
    "    \"AnswerCount\" INTEGER,\n",
    "    \"CommentCount\" INTEGER,\n",
    "    \"FavoriteCount\" INTEGER,\n",
    "    \"ClosedDate\" TEXT,\n",
    "    \"CommunityOwnedDate\" TEXT,\n",
    "    FOREIGN KEY (\"OwnerUserId\") REFERENCES \"users\"(\"Id\"),\n",
    "    FOREIGN KEY (\"LastEditorUserId\") REFERENCES \"users\"(\"Id\")\n",
    ");"
   ]
  },
  {
   "cell_type": "markdown",
   "metadata": {},
   "source": [
    "Now for the comments table.  We need to add the primary key constraint on the id here as we did for users and posts, but we also need to add FOREIGN KEY constraints on the UserId and PostId. Read the documentation here and find our how to do that: https://www.sqlite.org/foreignkeys.html.  Then create the comments table with the correct constraints:\n",
    "\n",
    "<div style=\"background-color:lemonchiffon; border:1px solid; padding:5px; margin:5px; font-weight:bold\"><font color=\"crimson\">\n",
    "TODO: Complete the following code cell\n",
    "    </font></div>"
   ]
  },
  {
   "cell_type": "code",
   "execution_count": 38,
   "metadata": {},
   "outputs": [
    {
     "name": "stdout",
     "output_type": "stream",
     "text": [
      " * sqlite:///chatdata.db\n",
      "(sqlite3.OperationalError) no such table: comments\n",
      "[SQL: DROP TABLE \"comments\";]\n",
      "(Background on this error at: http://sqlalche.me/e/e3q8)\n"
     ]
    }
   ],
   "source": [
    "%%sql\n",
    "DROP TABLE \"comments\";"
   ]
  },
  {
   "cell_type": "code",
   "execution_count": 236,
   "metadata": {},
   "outputs": [
    {
     "name": "stdout",
     "output_type": "stream",
     "text": [
      " * sqlite:///chatdata.db\n",
      "Done.\n"
     ]
    },
    {
     "data": {
      "text/plain": [
       "[]"
      ]
     },
     "execution_count": 236,
     "metadata": {},
     "output_type": "execute_result"
    }
   ],
   "source": [
    "# Run the CREATE TABLE statement for the comments table, including the primary key constraint and the 2 foreign key constraints\n",
    "# TODO\n",
    "%%sql CREATE TABLE \"comments\"(\n",
    "    \"Id\" INTEGER NOT NULL PRIMARY KEY,\n",
    "    \"PostId\" INTEGER,\"Score\" INTEGER,\n",
    "    \"Text\" TEXT,\n",
    "    \"CreationDate\" TEXT,\n",
    "    \"UserId\" INTEGER,\n",
    "    FOREIGN KEY (\"PostId\") REFERENCES \"posts\"(\"Id\"),\n",
    "    FOREIGN KEY (\"UserId\") REFERENCES \"users\"(\"Id\")\n",
    ");"
   ]
  },
  {
   "cell_type": "markdown",
   "metadata": {},
   "source": [
    "Now we can re-insert the data into these constrained tables.  First users:"
   ]
  },
  {
   "cell_type": "code",
   "execution_count": 237,
   "metadata": {},
   "outputs": [],
   "source": [
    "# Insert data into the new users table\n",
    "users.to_sql('users', con, if_exists='append', index=False)"
   ]
  },
  {
   "cell_type": "markdown",
   "metadata": {},
   "source": [
    "Now posts:\n",
    "\n",
    "<div style=\"background-color:lemonchiffon; border:1px solid; padding:5px; margin:5px; font-weight:bold\"><font color=\"crimson\">\n",
    "TODO: Complete the following code cell\n",
    "    </font></div>"
   ]
  },
  {
   "cell_type": "code",
   "execution_count": 238,
   "metadata": {},
   "outputs": [],
   "source": [
    "# Insert data into the new posts table\n",
    "# TODO\n",
    "posts.to_sql('posts',con, if_exists= 'append', index=False)"
   ]
  },
  {
   "cell_type": "markdown",
   "metadata": {},
   "source": [
    "Finally comments, which references the users and posts tables:\n",
    "\n",
    "<div style=\"background-color:lemonchiffon; border:1px solid; padding:5px; margin:5px; font-weight:bold\"><font color=\"crimson\">\n",
    "TODO: Complete the following code cell\n",
    "    </font></div>"
   ]
  },
  {
   "cell_type": "code",
   "execution_count": 239,
   "metadata": {},
   "outputs": [],
   "source": [
    "# Insert data into the new comments table\n",
    "# TODO\n",
    "comments.to_sql('comments',con, if_exists= 'append', index=False)"
   ]
  },
  {
   "cell_type": "markdown",
   "metadata": {},
   "source": [
    "Now check that we have the 3 new table definitions in Sqlite:"
   ]
  },
  {
   "cell_type": "code",
   "execution_count": 240,
   "metadata": {},
   "outputs": [
    {
     "name": "stdout",
     "output_type": "stream",
     "text": [
      " * sqlite:///chatdata.db\n",
      "Done.\n"
     ]
    },
    {
     "data": {
      "text/html": [
       "<table>\n",
       "    <tr>\n",
       "        <th>name</th>\n",
       "    </tr>\n",
       "    <tr>\n",
       "        <td>comments</td>\n",
       "    </tr>\n",
       "    <tr>\n",
       "        <td>posts</td>\n",
       "    </tr>\n",
       "    <tr>\n",
       "        <td>users</td>\n",
       "    </tr>\n",
       "</table>"
      ],
      "text/plain": [
       "[('comments',), ('posts',), ('users',)]"
      ]
     },
     "execution_count": 240,
     "metadata": {},
     "output_type": "execute_result"
    }
   ],
   "source": [
    "%%sql\n",
    "SELECT name FROM sqlite_master WHERE type='table'\n",
    "    ORDER BY name"
   ]
  },
  {
   "cell_type": "markdown",
   "metadata": {},
   "source": [
    "We now have all the data in tables in Sqlite and the tables will enforce the referential integrity."
   ]
  },
  {
   "cell_type": "markdown",
   "metadata": {},
   "source": [
    "# Example Query and Pattern for Tasks 2 and 3\n",
    "\n",
    "As you work through the next tasks, you will need to:\n",
    "\n",
    "1. Prepare the Sqlite query to answer the question\n",
    "2. Test it\n",
    "3. Insert it into the `queries` table, so we have a record of it for others.\n",
    "\n",
    "This is the process that we want you to follow for this project while completing it. "
   ]
  },
  {
   "cell_type": "markdown",
   "metadata": {},
   "source": [
    "Let's see an example of this by answering the following question:\n",
    "\n",
    "**Which 5 users have viewed the most times and what is the sum of those views per user?**\n",
    "\n",
    "## Prepare the Sqlite query\n",
    "\n",
    "First, let's write the query:"
   ]
  },
  {
   "cell_type": "code",
   "execution_count": 241,
   "metadata": {},
   "outputs": [
    {
     "data": {
      "text/html": [
       "<div>\n",
       "<style scoped>\n",
       "    .dataframe tbody tr th:only-of-type {\n",
       "        vertical-align: middle;\n",
       "    }\n",
       "\n",
       "    .dataframe tbody tr th {\n",
       "        vertical-align: top;\n",
       "    }\n",
       "\n",
       "    .dataframe thead th {\n",
       "        text-align: right;\n",
       "    }\n",
       "</style>\n",
       "<table border=\"1\" class=\"dataframe\">\n",
       "  <thead>\n",
       "    <tr style=\"text-align: right;\">\n",
       "      <th></th>\n",
       "      <th>UserId</th>\n",
       "      <th>TotalViews</th>\n",
       "    </tr>\n",
       "  </thead>\n",
       "  <tbody>\n",
       "    <tr>\n",
       "      <th>0</th>\n",
       "      <td>919</td>\n",
       "      <td>85180</td>\n",
       "    </tr>\n",
       "    <tr>\n",
       "      <th>1</th>\n",
       "      <td>4253</td>\n",
       "      <td>35119</td>\n",
       "    </tr>\n",
       "    <tr>\n",
       "      <th>2</th>\n",
       "      <td>805</td>\n",
       "      <td>34637</td>\n",
       "    </tr>\n",
       "    <tr>\n",
       "      <th>3</th>\n",
       "      <td>7290</td>\n",
       "      <td>32639</td>\n",
       "    </tr>\n",
       "    <tr>\n",
       "      <th>4</th>\n",
       "      <td>3277</td>\n",
       "      <td>29255</td>\n",
       "    </tr>\n",
       "  </tbody>\n",
       "</table>\n",
       "</div>"
      ],
      "text/plain": [
       "   UserId  TotalViews\n",
       "0     919       85180\n",
       "1    4253       35119\n",
       "2     805       34637\n",
       "3    7290       32639\n",
       "4    3277       29255"
      ]
     },
     "execution_count": 241,
     "metadata": {},
     "output_type": "execute_result"
    }
   ],
   "source": [
    "sql = \"\"\"\n",
    "SELECT Id As UserId, SUM(Views) AS TotalViews\n",
    "    FROM Users\n",
    "        GROUP BY Id\n",
    "            ORDER BY TotalViews DESC\n",
    "                LIMIT 5\n",
    "                \"\"\"\n",
    "result = pd.read_sql(sql, con) # con is the connection to the database\n",
    "result"
   ]
  },
  {
   "cell_type": "markdown",
   "metadata": {},
   "source": [
    "## Test the query\n",
    "You can optionally prove the query worked by performing the same query in Pandas:"
   ]
  },
  {
   "cell_type": "code",
   "execution_count": 242,
   "metadata": {},
   "outputs": [
    {
     "data": {
      "text/plain": [
       "Id\n",
       "919     85180\n",
       "4253    35119\n",
       "805     34637\n",
       "7290    32639\n",
       "3277    29255\n",
       "Name: Views, dtype: int64"
      ]
     },
     "execution_count": 242,
     "metadata": {},
     "output_type": "execute_result"
    }
   ],
   "source": [
    "results = users.groupby(['Id']).sum().sort_values('Views', ascending = False)[:5]\n",
    "results['Views']"
   ]
  },
  {
   "cell_type": "markdown",
   "metadata": {},
   "source": [
    "## Insert the query into the `queries` table\n",
    "Now we need to put this query into the `queries` table in sqlite. Remember we want these queries to be accessible to everybody that should have access to them. We do not want people writing and rewriting the same queires over and over again. The easiest thing to do is create a dictionary with the values and insert these into the queries table.  Note that the values are provided as lists as we are inserting a list of values (i.e. a number of rows) into the table.  In this case the number of rows is 1, so we have lists of 1 item.\n",
    "\n",
    "So here, we have a column called 'task' with a list of values, a column called 'action' with a list of values, etc."
   ]
  },
  {
   "cell_type": "code",
   "execution_count": 243,
   "metadata": {},
   "outputs": [
    {
     "data": {
      "text/plain": [
       "{'task': ['Single Table Queries'],\n",
       " 'action': ['Which 5 users have viewed the most times and what is the sum of those views per user?'],\n",
       " 'query': ['\\nSELECT Id As UserId, SUM(Views) AS TotalViews\\n    FROM Users\\n        GROUP BY Id\\n            ORDER BY TotalViews DESC\\n                LIMIT 5\\n                ']}"
      ]
     },
     "execution_count": 243,
     "metadata": {},
     "output_type": "execute_result"
    }
   ],
   "source": [
    "query_dict = {\n",
    "              'task': ['Single Table Queries'],\n",
    "              'action': ['Which 5 users have viewed the most times and what is the sum of those views per user?'],\n",
    "              'query': [sql]\n",
    "             }\n",
    "query_dict"
   ]
  },
  {
   "cell_type": "markdown",
   "metadata": {},
   "source": [
    "Now that you have the data structure (query_dict) containing the data, create a pandas dataframe that holds those values:"
   ]
  },
  {
   "cell_type": "code",
   "execution_count": 80,
   "metadata": {},
   "outputs": [
    {
     "data": {
      "text/html": [
       "<div>\n",
       "<style scoped>\n",
       "    .dataframe tbody tr th:only-of-type {\n",
       "        vertical-align: middle;\n",
       "    }\n",
       "\n",
       "    .dataframe tbody tr th {\n",
       "        vertical-align: top;\n",
       "    }\n",
       "\n",
       "    .dataframe thead th {\n",
       "        text-align: right;\n",
       "    }\n",
       "</style>\n",
       "<table border=\"1\" class=\"dataframe\">\n",
       "  <thead>\n",
       "    <tr style=\"text-align: right;\">\n",
       "      <th></th>\n",
       "      <th>task</th>\n",
       "      <th>action</th>\n",
       "      <th>query</th>\n",
       "    </tr>\n",
       "  </thead>\n",
       "  <tbody>\n",
       "    <tr>\n",
       "      <th>0</th>\n",
       "      <td>Single Table Queries</td>\n",
       "      <td>Which 5 users have viewed the most times and w...</td>\n",
       "      <td>\\nSELECT Id As UserId, SUM(Views) AS TotalView...</td>\n",
       "    </tr>\n",
       "  </tbody>\n",
       "</table>\n",
       "</div>"
      ],
      "text/plain": [
       "                   task                                             action  \\\n",
       "0  Single Table Queries  Which 5 users have viewed the most times and w...   \n",
       "\n",
       "                                               query  \n",
       "0  \\nSELECT Id As UserId, SUM(Views) AS TotalView...  "
      ]
     },
     "execution_count": 80,
     "metadata": {},
     "output_type": "execute_result"
    }
   ],
   "source": [
    "queries = pd.DataFrame(query_dict)\n",
    "queries"
   ]
  },
  {
   "cell_type": "markdown",
   "metadata": {},
   "source": [
    "Now load that pandas dataframe (queries) into the sqlite table called queries. In this case, you use append NOT replace. You will be adding to this tables as you go thru this project."
   ]
  },
  {
   "cell_type": "code",
   "execution_count": 81,
   "metadata": {},
   "outputs": [
    {
     "data": {
      "text/html": [
       "<div>\n",
       "<style scoped>\n",
       "    .dataframe tbody tr th:only-of-type {\n",
       "        vertical-align: middle;\n",
       "    }\n",
       "\n",
       "    .dataframe tbody tr th {\n",
       "        vertical-align: top;\n",
       "    }\n",
       "\n",
       "    .dataframe thead th {\n",
       "        text-align: right;\n",
       "    }\n",
       "</style>\n",
       "<table border=\"1\" class=\"dataframe\">\n",
       "  <thead>\n",
       "    <tr style=\"text-align: right;\">\n",
       "      <th></th>\n",
       "      <th>task</th>\n",
       "      <th>action</th>\n",
       "      <th>query</th>\n",
       "    </tr>\n",
       "  </thead>\n",
       "  <tbody>\n",
       "    <tr>\n",
       "      <th>0</th>\n",
       "      <td>Single Table Queries</td>\n",
       "      <td>Which 5 users have viewed the most times and w...</td>\n",
       "      <td>\\nSELECT Id As UserId, SUM(Views) AS TotalView...</td>\n",
       "    </tr>\n",
       "  </tbody>\n",
       "</table>\n",
       "</div>"
      ],
      "text/plain": [
       "                   task                                             action  \\\n",
       "0  Single Table Queries  Which 5 users have viewed the most times and w...   \n",
       "\n",
       "                                               query  \n",
       "0  \\nSELECT Id As UserId, SUM(Views) AS TotalView...  "
      ]
     },
     "execution_count": 81,
     "metadata": {},
     "output_type": "execute_result"
    }
   ],
   "source": [
    "# load query into sqlite\n",
    "queries.to_sql('queries', con, if_exists='append', index=False)\n",
    "\n",
    "# read back in to prove that it worked\n",
    "sql = 'SELECT * FROM queries'\n",
    "queries = pd.read_sql(sql, con)\n",
    "queries.head()"
   ]
  },
  {
   "cell_type": "markdown",
   "metadata": {},
   "source": [
    "It is likely that as you iterate thru this notebook you will create some duplicate entries in the query table. Not a big deal. Just tell sql or pandas (much easier in pandas) to drop the duplicates! If you drop the duplicates in Pandas you will have to write the entire dataframe back to sqlite. Otherwise it is changed in memory in Pandas but NOT in sqlite on the disk drive (or SDD). Just do this drop at the end of this notebook so that you are not constantly dealing with this. "
   ]
  },
  {
   "cell_type": "markdown",
   "metadata": {},
   "source": [
    "So, to summarise, as you go through the following tasks you need to:\n",
    "\n",
    "- answer the question in sql\n",
    "- prove it in pandas (if you want to)\n",
    "- put the query into the queries table"
   ]
  },
  {
   "cell_type": "markdown",
   "metadata": {},
   "source": [
    "# Task 1 (continued): Insert the CREATE TABLE Statements into the `queries` Table\n",
    "\n",
    "Now that we understand how to populate the `queries` table, let's insert the CREATE TABLE statements into it.  First let's define a function to help us insert into the queries table:\n"
   ]
  },
  {
   "cell_type": "code",
   "execution_count": 244,
   "metadata": {},
   "outputs": [],
   "source": [
    "# Define a function that will insert into the queries table\n",
    "def store_query(task, action, query):\n",
    "    query_dict = {\n",
    "                  'task': [task],\n",
    "                  'action': [action],\n",
    "                  'query': [query]\n",
    "                 }\n",
    "\n",
    "    # put query into the query_dict\n",
    "    queries = pd.DataFrame(query_dict)\n",
    "\n",
    "    # load query into sqlite\n",
    "    queries.to_sql('queries', con, if_exists='append', index=False)    "
   ]
  },
  {
   "cell_type": "markdown",
   "metadata": {},
   "source": [
    "Now we can specify the queries and call the above function to store them.  The first one is done for you."
   ]
  },
  {
   "cell_type": "code",
   "execution_count": 245,
   "metadata": {},
   "outputs": [],
   "source": [
    "sql = \"\"\"\n",
    "    CREATE TABLE \"comments\" (\n",
    "    \"Id\" INTEGER,\n",
    "    \"PostId\" INTEGER,\n",
    "    \"Score\" INTEGER,\n",
    "    \"Text\" TEXT,\n",
    "    \"CreationDate\" TEXT,\n",
    "    \"UserId\" INTEGER\n",
    "    )\n",
    "    \"\"\"\n",
    "store_query(\"Task 1\", \"Create table comments\", sql)"
   ]
  },
  {
   "cell_type": "markdown",
   "metadata": {},
   "source": [
    "Let's prove it works by selecting back from the queries table:"
   ]
  },
  {
   "cell_type": "code",
   "execution_count": 246,
   "metadata": {},
   "outputs": [
    {
     "name": "stdout",
     "output_type": "stream",
     "text": [
      " * sqlite:///chatdata.db\n",
      "Done.\n"
     ]
    },
    {
     "data": {
      "text/html": [
       "<table>\n",
       "    <tr>\n",
       "        <th>task</th>\n",
       "        <th>action</th>\n",
       "        <th>query</th>\n",
       "    </tr>\n",
       "    <tr>\n",
       "        <td>Task 1</td>\n",
       "        <td>Create table comments</td>\n",
       "        <td><br>    CREATE TABLE &quot;comments&quot; (<br>    &quot;Id&quot; INTEGER,<br>    &quot;PostId&quot; INTEGER,<br>    &quot;Score&quot; INTEGER,<br>    &quot;Text&quot; TEXT,<br>    &quot;CreationDate&quot; TEXT,<br>    &quot;UserId&quot; INTEGER<br>    )<br>    </td>\n",
       "    </tr>\n",
       "</table>"
      ],
      "text/plain": [
       "[('Task 1', 'Create table comments', '\\n    CREATE TABLE \"comments\" (\\n    \"Id\" INTEGER,\\n    \"PostId\" INTEGER,\\n    \"Score\" INTEGER,\\n    \"Text\" TEXT,\\n    \"CreationDate\" TEXT,\\n    \"UserId\" INTEGER\\n    )\\n    ')]"
      ]
     },
     "execution_count": 246,
     "metadata": {},
     "output_type": "execute_result"
    }
   ],
   "source": [
    "# Prove it works\n",
    "%sql SELECT * FROM queries"
   ]
  },
  {
   "cell_type": "markdown",
   "metadata": {},
   "source": [
    "## Insert the other CREATE TABLE statements into the `queries` table.\n",
    "Follow the above pattern to complete these code cells:\n",
    "\n",
    "<div style=\"background-color:lemonchiffon; border:1px solid; padding:5px; margin:5px; font-weight:bold\"><font color=\"crimson\">\n",
    "TODO: Complete the following code cells\n",
    "    </font></div>"
   ]
  },
  {
   "cell_type": "code",
   "execution_count": 247,
   "metadata": {},
   "outputs": [],
   "source": [
    "# Insert the CREATE TABLE for posts into the queries table\n",
    "# TODO\n",
    "sql = \"\"\"\n",
    "    CREATE TABLE \"posts\" (\n",
    "   \"Id\" INTEGER,\n",
    "   \"PostTypeId\" INTEGER,\n",
    "   \"AcceptedAnswerId\" INTEGER,\n",
    "   \"ParentId\" INTEGER,\n",
    "   \"CreationDate\" TEXT,\n",
    "   \"Score\" INTEGER,\n",
    "   \"ViewCount\" INTEGER,\n",
    "   \"Body\" TEXT,\n",
    "   \"OwnerUserId\" INTEGER,\n",
    "   \"OwnerDisplayName\" TEXT,\n",
    "   \"LastEditorUserId\" INTEGER,\n",
    "   \"LastEditorDisplayName\" TEXT,\n",
    "   \"LastEditDate\" TEXT,\n",
    "   \"LastActivityDate\" TEXT,\n",
    "   \"Title\" TEXT,\n",
    "   \"Tags\" TEXT,\n",
    "   \"AnswerCount\" INTEGER,\n",
    "   \"CommentCount\" INTEGER,\n",
    "   \"FavoriteCount\" INTEGER,\n",
    "   \"ClosedDate\" TEXT,\n",
    "   \"CommunityOwnedDate\" TEXT \n",
    "    )\n",
    "    \"\"\"\n",
    "store_query(\"Task 1\", \"Create table posts\", sql)"
   ]
  },
  {
   "cell_type": "code",
   "execution_count": 248,
   "metadata": {},
   "outputs": [],
   "source": [
    "# Insert the CREATE TABLE for users into the queries table\n",
    "# TODO\n",
    "sql= \"\"\"\n",
    "    CREATE TABLE \"users\"(\n",
    "    \"Id\" INTEGER,\n",
    "    \"Reputation\" INTEGER,\n",
    "    \"CreationDate\" TEXT,\n",
    "    \"DisplayName\" TEXT,\n",
    "    \"LastAccessDate\" TEXT,\n",
    "    \"WebsiteUrl\" TEXT,\n",
    "    \"Location\" TEXT,\n",
    "    \"AboutMe\" TEXT,\n",
    "    \"Views\" INTEGER,\n",
    "    \"UpVotes\" INTEGER,\n",
    "    \"DownVotes\" INTEGER,\n",
    "    \"ProfileImageUrl\" TEXT,\n",
    "    \"AccountId\" INTEGER\n",
    "    )\n",
    "    \"\"\"\n",
    "store_query(\"Task 1\", \"Create table users\", sql)"
   ]
  },
  {
   "cell_type": "code",
   "execution_count": 249,
   "metadata": {
    "scrolled": true
   },
   "outputs": [
    {
     "name": "stdout",
     "output_type": "stream",
     "text": [
      " * sqlite:///chatdata.db\n",
      "Done.\n"
     ]
    },
    {
     "data": {
      "text/html": [
       "<table>\n",
       "    <tr>\n",
       "        <th>task</th>\n",
       "        <th>action</th>\n",
       "        <th>query</th>\n",
       "    </tr>\n",
       "    <tr>\n",
       "        <td>Task 1</td>\n",
       "        <td>Create table comments</td>\n",
       "        <td><br>    CREATE TABLE &quot;comments&quot; (<br>    &quot;Id&quot; INTEGER,<br>    &quot;PostId&quot; INTEGER,<br>    &quot;Score&quot; INTEGER,<br>    &quot;Text&quot; TEXT,<br>    &quot;CreationDate&quot; TEXT,<br>    &quot;UserId&quot; INTEGER<br>    )<br>    </td>\n",
       "    </tr>\n",
       "    <tr>\n",
       "        <td>Task 1</td>\n",
       "        <td>Create table posts</td>\n",
       "        <td><br>    CREATE TABLE &quot;posts&quot; (<br>   &quot;Id&quot; INTEGER,<br>   &quot;PostTypeId&quot; INTEGER,<br>   &quot;AcceptedAnswerId&quot; INTEGER,<br>   &quot;ParentId&quot; INTEGER,<br>   &quot;CreationDate&quot; TEXT,<br>   &quot;Score&quot; INTEGER,<br>   &quot;ViewCount&quot; INTEGER,<br>   &quot;Body&quot; TEXT,<br>   &quot;OwnerUserId&quot; INTEGER,<br>   &quot;OwnerDisplayName&quot; TEXT,<br>   &quot;LastEditorUserId&quot; INTEGER,<br>   &quot;LastEditorDisplayName&quot; TEXT,<br>   &quot;LastEditDate&quot; TEXT,<br>   &quot;LastActivityDate&quot; TEXT,<br>   &quot;Title&quot; TEXT,<br>   &quot;Tags&quot; TEXT,<br>   &quot;AnswerCount&quot; INTEGER,<br>   &quot;CommentCount&quot; INTEGER,<br>   &quot;FavoriteCount&quot; INTEGER,<br>   &quot;ClosedDate&quot; TEXT,<br>   &quot;CommunityOwnedDate&quot; TEXT <br>    )<br>    </td>\n",
       "    </tr>\n",
       "    <tr>\n",
       "        <td>Task 1</td>\n",
       "        <td>Create table users</td>\n",
       "        <td><br>    CREATE TABLE &quot;users&quot;(<br>    &quot;Id&quot; INTEGER,<br>    &quot;Reputation&quot; INTEGER,<br>    &quot;CreationDate&quot; TEXT,<br>    &quot;DisplayName&quot; TEXT,<br>    &quot;LastAccessDate&quot; TEXT,<br>    &quot;WebsiteUrl&quot; TEXT,<br>    &quot;Location&quot; TEXT,<br>    &quot;AboutMe&quot; TEXT,<br>    &quot;Views&quot; INTEGER,<br>    &quot;UpVotes&quot; INTEGER,<br>    &quot;DownVotes&quot; INTEGER,<br>    &quot;ProfileImageUrl&quot; TEXT,<br>    &quot;AccountId&quot; INTEGER<br>    )<br>    </td>\n",
       "    </tr>\n",
       "</table>"
      ],
      "text/plain": [
       "[('Task 1', 'Create table comments', '\\n    CREATE TABLE \"comments\" (\\n    \"Id\" INTEGER,\\n    \"PostId\" INTEGER,\\n    \"Score\" INTEGER,\\n    \"Text\" TEXT,\\n    \"CreationDate\" TEXT,\\n    \"UserId\" INTEGER\\n    )\\n    '),\n",
       " ('Task 1', 'Create table posts', '\\n    CREATE TABLE \"posts\" (\\n   \"Id\" INTEGER,\\n   \"PostTypeId\" INTEGER,\\n   \"AcceptedAnswerId\" INTEGER,\\n   \"ParentId\" INTEGER,\\n   \"CreationDate\" T ... (280 characters truncated) ...    \"AnswerCount\" INTEGER,\\n   \"CommentCount\" INTEGER,\\n   \"FavoriteCount\" INTEGER,\\n   \"ClosedDate\" TEXT,\\n   \"CommunityOwnedDate\" TEXT \\n    )\\n    '),\n",
       " ('Task 1', 'Create table users', '\\n    CREATE TABLE \"users\"(\\n    \"Id\" INTEGER,\\n    \"Reputation\" INTEGER,\\n    \"CreationDate\" TEXT,\\n    \"DisplayName\" TEXT,\\n    \"LastAccessDate\" TE ... (60 characters truncated) ... tMe\" TEXT,\\n    \"Views\" INTEGER,\\n    \"UpVotes\" INTEGER,\\n    \"DownVotes\" INTEGER,\\n    \"ProfileImageUrl\" TEXT,\\n    \"AccountId\" INTEGER\\n    )\\n    ')]"
      ]
     },
     "execution_count": 249,
     "metadata": {},
     "output_type": "execute_result"
    }
   ],
   "source": [
    "# Prove it works\n",
    "%sql SELECT * FROM queries"
   ]
  },
  {
   "cell_type": "markdown",
   "metadata": {},
   "source": [
    "## Count the Number of Rows in Each Table\n",
    "Run some queries to count the number of rows in each of the tables.  Don't forget to insert the query into the queries table.\n",
    "\n",
    "<div style=\"background-color:lemonchiffon; border:1px solid; padding:5px; margin:5px; font-weight:bold\"><font color=\"crimson\">\n",
    "TODO: Complete the following code cells\n",
    "    </font></div>"
   ]
  },
  {
   "cell_type": "code",
   "execution_count": 250,
   "metadata": {},
   "outputs": [],
   "source": [
    "# Count the number of rows in the comments table\n",
    "# TODO\n",
    "sql=\"\"\"\n",
    "    SELECT COUNT(*) AS row_count_comments\n",
    "    FROM Comments\n",
    "    \"\"\"\n",
    "store_query(\"Task 1\", \"Count the number of rows in the comments table\", sql)"
   ]
  },
  {
   "cell_type": "code",
   "execution_count": 251,
   "metadata": {},
   "outputs": [],
   "source": [
    "# Count the number of rows in the users table\n",
    "# TODO\n",
    "sql=\"\"\"\n",
    "    SELECT COUNT(*) AS row_count_users\n",
    "    FROM Users\n",
    "    \"\"\"\n",
    "store_query(\"Task 1\", \"Count the number of rows in the users table\", sql)"
   ]
  },
  {
   "cell_type": "code",
   "execution_count": 252,
   "metadata": {},
   "outputs": [],
   "source": [
    "# Count the number of rows in the posts table\n",
    "# TODO\n",
    "sql=\"\"\"\n",
    "    SELECT COUNT(*) AS row_count_posts\n",
    "    FROM Posts\n",
    "    \"\"\"\n",
    "store_query(\"Task 1\", \"Count the number of rows in the posts table\", sql)"
   ]
  },
  {
   "cell_type": "markdown",
   "metadata": {},
   "source": [
    "## Do some Random Checks on the Data\n",
    "Let's write some queries that select 5 random rows from each table.  The queries are provided here:\n",
    "\n",
    "    select * from Comments order by random() limit 5;\n",
    "    select * from Users order by random() limit 5;\n",
    "    select * from Posts order by random() limit 5;\n",
    "\n",
    "Enter the queries into the code cells below and insert the queries into the `queries` table in the same was as you did for the CREATE TABLE statements.\n",
    "\n",
    "<div style=\"background-color:lemonchiffon; border:1px solid; padding:5px; margin:5px; font-weight:bold\"><font color=\"crimson\">\n",
    "TODO: Complete the following code cells\n",
    "    </font></div>"
   ]
  },
  {
   "cell_type": "code",
   "execution_count": 253,
   "metadata": {},
   "outputs": [],
   "source": [
    "# Run the query to select 5 random rows from the posts table\n",
    "# TODO\n",
    "sql=\"\"\"\n",
    "    SELECT * \n",
    "    FROM Posts\n",
    "    ORDER BY random()\n",
    "    LIMIT 5;\n",
    "    \"\"\"\n",
    "store_query(\"Task 1\", \"Run the query to select 5 random rows from the posts table\", sql)"
   ]
  },
  {
   "cell_type": "code",
   "execution_count": 254,
   "metadata": {},
   "outputs": [],
   "source": [
    "# Run the query to select 5 random rows from the posts comments\n",
    "# TODO\n",
    "sql=\"\"\"\n",
    "    SELECT * \n",
    "    FROM Comments\n",
    "    ORDER BY random()\n",
    "    LIMIT 5;\n",
    "    \"\"\"\n",
    "store_query(\"Task 1\", \"Run the query to select 5 random rows from the comments table\", sql)"
   ]
  },
  {
   "cell_type": "code",
   "execution_count": 255,
   "metadata": {},
   "outputs": [],
   "source": [
    "# Run the query to select 5 random rows from the users table\n",
    "# TODO\n",
    "sql=\"\"\"\n",
    "    SELECT * \n",
    "    FROM Users\n",
    "    ORDER BY random()\n",
    "    LIMIT 5;\n",
    "    \"\"\"\n",
    "store_query(\"Task 1\", \"Run the query to select 5 random rows from the users table\", sql)"
   ]
  },
  {
   "cell_type": "markdown",
   "metadata": {},
   "source": [
    "# Task 2: Create Single Table Queries\n"
   ]
  },
  {
   "cell_type": "markdown",
   "metadata": {},
   "source": [
    "## Lifecycle Stage: Analyze\n",
    "We can now start the analysis with our single-table queries.  First we need to create a new computed column to help with one of the queries.  The code below creates a column called LEN_BODY which is the length of the BODY text:\n"
   ]
  },
  {
   "cell_type": "code",
   "execution_count": 256,
   "metadata": {},
   "outputs": [
    {
     "name": "stdout",
     "output_type": "stream",
     "text": [
      " * sqlite:///chatdata.db\n",
      "Done.\n"
     ]
    },
    {
     "data": {
      "text/plain": [
       "[]"
      ]
     },
     "execution_count": 256,
     "metadata": {},
     "output_type": "execute_result"
    }
   ],
   "source": [
    "%%sql\n",
    "ALTER TABLE POSTS ADD COLUMN LEN_BODY INT"
   ]
  },
  {
   "cell_type": "code",
   "execution_count": 257,
   "metadata": {},
   "outputs": [
    {
     "name": "stdout",
     "output_type": "stream",
     "text": [
      " * sqlite:///chatdata.db\n",
      "42234 rows affected.\n"
     ]
    },
    {
     "data": {
      "text/plain": [
       "[]"
      ]
     },
     "execution_count": 257,
     "metadata": {},
     "output_type": "execute_result"
    }
   ],
   "source": [
    "%%sql\n",
    "UPDATE POSTS SET LEN_BODY = LENGTH(BODY)"
   ]
  },
  {
   "cell_type": "markdown",
   "metadata": {},
   "source": [
    "### Single Table Queries\n",
    "From the Template SQL Queries there are a series of queries requested. You are responsible for coding the result. Use the pattern above to accomplish the coding objective.  Copy and paste the question (column B Action) into a markdown cell and answer the query. Use the pattern that you have been using above. \n",
    "\n",
    "<div style=\"background-color:lemonchiffon; border:1px solid; padding:5px; margin:5px; font-weight:bold\"><font color=\"crimson\">\n",
    "TODO: Enter your code below.  Just keep on inserting cells as you need them.\n",
    "    </font></div>"
   ]
  },
  {
   "cell_type": "code",
   "execution_count": 258,
   "metadata": {},
   "outputs": [],
   "source": [
    "# TODO- How many posts have 0 comments?\n",
    "sql=\"\"\"\n",
    "    SELECT COUNT(*)\n",
    "    FROM posts\n",
    "    WHERE CommentCount == 0;\n",
    "    \"\"\"\n",
    "store_query(\"Task 2\", \"How many posts have 0 comments?\", sql)"
   ]
  },
  {
   "cell_type": "code",
   "execution_count": 259,
   "metadata": {},
   "outputs": [],
   "source": [
    "# TODO- How many posts have 1 comments?\n",
    "sql=\"\"\"\n",
    "    SELECT COUNT(*)\n",
    "    FROM posts\n",
    "    WHERE CommentCount == 1;\n",
    "    \"\"\"\n",
    "store_query(\"Task 2\", \"How many posts have 1 comments?\", sql)"
   ]
  },
  {
   "cell_type": "code",
   "execution_count": 260,
   "metadata": {},
   "outputs": [],
   "source": [
    "# TODO- How many posts have 2 comments or more?\n",
    "sql=\"\"\"\n",
    "    SELECT COUNT(*)\n",
    "    FROM posts\n",
    "    WHERE CommentCount >= 2;\n",
    "    \"\"\"\n",
    "store_query(\"Task 2\", \"How many posts have 2 comments or more?\", sql)"
   ]
  },
  {
   "cell_type": "code",
   "execution_count": 261,
   "metadata": {},
   "outputs": [],
   "source": [
    "# TODO - Find the 5 posts with the highest viewcount\n",
    "sql=\"\"\"\n",
    "    SELECT Id AS Post_id , ViewCount\n",
    "    FROM Posts\n",
    "    ORDER BY ViewCount DESC\n",
    "    LIMIT 5;\n",
    "    \"\"\"\n",
    "store_query(\"Task 2\", \"Find the 5 posts with the highest viewcount\", sql)"
   ]
  },
  {
   "cell_type": "code",
   "execution_count": 262,
   "metadata": {},
   "outputs": [],
   "source": [
    "# TODO - Find the top 5 posts with the highest scores\n",
    "sql=\"\"\"\n",
    "    SELECT Id AS Post_id , Score\n",
    "    FROM Posts\n",
    "    ORDER BY Score DESC\n",
    "    LIMIT 5;\n",
    "    \"\"\"\n",
    "store_query(\"Task 2\", \"Find the top 5 posts with the highest scores\", sql)"
   ]
  },
  {
   "cell_type": "code",
   "execution_count": 263,
   "metadata": {},
   "outputs": [],
   "source": [
    "# TODO - What are the 5 most frequent scores on posts?\n",
    "sql=\"\"\"\n",
    "    SELECT Score, COUNT(*) AS score_count\n",
    "    FROM Posts\n",
    "    GROUP BY Score\n",
    "    ORDER BY score_count DESC\n",
    "    LIMIT 5;\n",
    "    \"\"\"\n",
    "store_query(\"Task 2\", \"What are the 5 most frequent scores on posts?\", sql)"
   ]
  },
  {
   "cell_type": "code",
   "execution_count": 264,
   "metadata": {},
   "outputs": [],
   "source": [
    "# TODO - How many posts have the keyword \"data\" in their tags?\n",
    "sql=\"\"\"\n",
    "    SELECT COUNT(*) AS number_of_posts_with_data_tag\n",
    "    FROM POSTS\n",
    "    WHERE Tags LIKE '%<data>%';\n",
    "    \"\"\"\n",
    "store_query(\"Task 2\", \"How many posts have the keyword 'data' in their tags?\", sql)"
   ]
  },
  {
   "cell_type": "code",
   "execution_count": 265,
   "metadata": {},
   "outputs": [],
   "source": [
    "# TODO - What are the 5 most frequent commentcount for posts?\n",
    "sql=\"\"\"\n",
    "    SELECT CommentCount, COUNT(*) AS CommentCount_frequently\n",
    "    FROM Posts\n",
    "    Group BY CommentCount\n",
    "    ORDER BY CommentCount_frequently\n",
    "    LIMIT 5;\n",
    "    \"\"\"\n",
    "store_query(\"Task 2\", \"What are the 5 most frequent commentcount for posts?\", sql)"
   ]
  },
  {
   "cell_type": "code",
   "execution_count": 266,
   "metadata": {},
   "outputs": [],
   "source": [
    "# TODO - How many posts have an accepted answer?\n",
    "sql=\"\"\"\n",
    "    SELECT COUNT(*) As count_accepted_answer\n",
    "    FROM Posts\n",
    "    WHERE AcceptedAnswerId <> 0;\n",
    "    \"\"\"\n",
    "store_query(\"Task 2\", \"How many posts have an accepted answer?\", sql)"
   ]
  },
  {
   "cell_type": "code",
   "execution_count": 267,
   "metadata": {},
   "outputs": [],
   "source": [
    "# TODO - What is the average reputation of table users?\n",
    "sql=\"\"\"\n",
    "    SELECT AVG(Reputation) AS user_agerage_reputation\n",
    "    FROM Users;\n",
    "    \"\"\"\n",
    "store_query(\"Task 2\", \"What is the average reputation of table users?\", sql)"
   ]
  },
  {
   "cell_type": "code",
   "execution_count": 268,
   "metadata": {},
   "outputs": [],
   "source": [
    "#TODO- What are the min and max reputation of users?\n",
    "sql=\"\"\"\n",
    "    SELECT MIN(Reputation) AS user_min_reputation , MAX(Reputation) AS user_max_reputation \n",
    "    FROM Users;\n",
    "    \"\"\"\n",
    "store_query(\"Task 2\", \"What are the min and max reputation of users?\", sql)"
   ]
  },
  {
   "cell_type": "code",
   "execution_count": 269,
   "metadata": {},
   "outputs": [],
   "source": [
    "#TODO- What is the length of the body of 5 most viewed posts?\n",
    "sql=\"\"\"\n",
    "    SELECT Id as Post_id, LEN_BODY\n",
    "    FROM Posts\n",
    "    ORDER BY ViewCount DESC\n",
    "    LIMIT 5;\n",
    "    \"\"\"\n",
    "store_query(\"Task 2\", \"What is the length of the body of 5 most viewed posts?\", sql)"
   ]
  },
  {
   "cell_type": "code",
   "execution_count": 270,
   "metadata": {},
   "outputs": [],
   "source": [
    "#TODO- How many different locations are there in the users table?\n",
    "sql= \"\"\"\n",
    "    SELECT COUNT(DISTINCT  Location ) AS location_count\n",
    "    FROM Users;\n",
    "    \"\"\"\n",
    "store_query(\"Task 2\", \"How many different locations are there in the users table?\", sql)"
   ]
  },
  {
   "cell_type": "code",
   "execution_count": 271,
   "metadata": {},
   "outputs": [],
   "source": [
    "#TODO- What are the top 5 locations of users?\n",
    "sql=\"\"\"\n",
    "    SELECT Location, COUNT(*) as number_of_users\n",
    "    FROM Users\n",
    "    GROUP BY Location\n",
    "    ORDER BY number_of_users DEsc\n",
    "    LIMIT 5;\n",
    "    \"\"\"\n",
    "store_query(\"Task 2\", \"What are the top 5 locations of users?\", sql)"
   ]
  },
  {
   "cell_type": "code",
   "execution_count": 272,
   "metadata": {},
   "outputs": [],
   "source": [
    "#TODO- Rank the days of the week from highest to lowest in terms of the volume of ViewCount as a percentage.\n",
    "sql=\"\"\"\n",
    "    SELECT CAST (strftime('%w', CreationDate) AS INTEGER) AS DayOfWeek,\n",
    "       COUNT(*) * 100.0 / (SELECT COUNT(*) FROM posts) AS Percentage\n",
    "    FROM posts\n",
    "    GROUP BY DayOfWeek\n",
    "    ORDER BY Percentage DESC;\n",
    "    \"\"\"\n",
    "store_query(\"Task 2\", \"Rank the days of the week from highest to lowest in terms of the volume of ViewCount as a percentage\", sql)"
   ]
  },
  {
   "cell_type": "code",
   "execution_count": null,
   "metadata": {},
   "outputs": [],
   "source": []
  },
  {
   "cell_type": "markdown",
   "metadata": {},
   "source": [
    "# Task 3: Cross Table Queries"
   ]
  },
  {
   "cell_type": "markdown",
   "metadata": {},
   "source": [
    "## Lifecycle Stage: Analyze\n",
    "Let's continue the analysis with our multi-table queries.  "
   ]
  },
  {
   "cell_type": "markdown",
   "metadata": {},
   "source": [
    "### Cross Table Queries\n",
    "\n",
    "From the Template SQL Queries there are a series of queries requested. You are responsible for coding the result. Use the pattern above to accomplish the coding objective.  Copy and paste the question (column B Action) into a markdown cell and answer the query. Use the pattern that you have been using above. \n",
    "\n",
    "<div style=\"background-color:lemonchiffon; border:1px solid; padding:5px; margin:5px; font-weight:bold\"><font color=\"crimson\">\n",
    "TODO: Enter your code below.  Just keep on inserting cells as you need them.\n",
    "    </font></div>\n",
    "\n"
   ]
  },
  {
   "cell_type": "code",
   "execution_count": 273,
   "metadata": {},
   "outputs": [],
   "source": [
    "# TODO - How many posts have been created by a user that has a filled out the \"AboutMe\" section?\n",
    "sql=\"\"\"\n",
    "    Select COUNT(p.Id) AS number_of_posts\n",
    "    FROM Posts as p\n",
    "    INNER JOIN Users as u \n",
    "    ON p.OwnerUserId = u.Id\n",
    "    Where u.Id IN (SELECT Id\n",
    "    FROM Users\n",
    "    WHERE AboutMe IS NOT NULL);\n",
    "    \"\"\"\n",
    "store_query(\"Task 3\", \"How many posts have been created by a user that has a filled out the 'AboutMe' section?\", sql)"
   ]
  },
  {
   "cell_type": "code",
   "execution_count": 274,
   "metadata": {},
   "outputs": [],
   "source": [
    "# TODO- Considering only the users with an \"AboutMe,\" how many posts are there per user?\n",
    "sql=\"\"\"\n",
    "    SELECT COUNT(*)::FLOAT / (SELECT COUNT(*) FROM users WHERE AboutMe IS NOT NULL) AS PostsPerUser\n",
    "    FROM posts\n",
    "    WHERE OwnerUserId IN (SELECT Id FROM users WHERE AboutMe IS NOT NULL);\n",
    "    \"\"\"\n",
    "store_query(\"Task 3\", \"Considering only the users with an 'AboutMe,' how many posts are there per user?\", sql)"
   ]
  },
  {
   "cell_type": "code",
   "execution_count": 275,
   "metadata": {},
   "outputs": [],
   "source": [
    "# TODO- What are the Top 10 posts which have the highest cummulative (post score + comment score) score? \n",
    "sql=\"\"\"\n",
    "    SELECT p.Id AS post_id, (p.Score+ SUM( c.Score)) AS CumulativeScore\n",
    "    FROM Posts p\n",
    "    LEFT JOIN Comments c \n",
    "    ON p.Id = c.PostId\n",
    "    GROUP BY p.Id, P.Score\n",
    "    ORDER BY CumulativeScore DESC\n",
    "    LIMIT 10;\n",
    "    \"\"\"\n",
    "store_query(\"Task 3\", \"What are the Top 10 posts which have the highest cummulative (post score + comment score) score? \", sql) "
   ]
  },
  {
   "cell_type": "code",
   "execution_count": 276,
   "metadata": {},
   "outputs": [],
   "source": [
    "# TODO - Who are the top 10 users who comment the most? \n",
    "\n",
    "sql=\"\"\"\n",
    "    SELECT c.UserId, COUNT(*) AS Comment_count, u.Reputation\n",
    "    FROM Comments c\n",
    "    JOIN Users u \n",
    "    on c.UserId = u.Id\n",
    "    GROUP BY c.UserId\n",
    "    ORDER BY Comment_count DESC\n",
    "    LIMIT 10;\n",
    "    \"\"\"\n",
    "store_query(\"Task 3\", \"Who are the top 10 users who comment the most? \", sql) "
   ]
  },
  {
   "cell_type": "code",
   "execution_count": 277,
   "metadata": {},
   "outputs": [],
   "source": [
    "# TODO - Who are the top 10 users who post the most?\n",
    "\n",
    "SQL=\"\"\"\n",
    "   SELECT p.OwnerUserId AS UserId , COUNT(*) AS PostCount, u.Reputation\n",
    "    FROM Posts p\n",
    "    JOIN Users u\n",
    "    ON p.OwnerUserId = u.id\n",
    "    GROUP BY p.OwnerUserId \n",
    "    ORDER BY PostCount DESC\n",
    "    LIMIT 10;\n",
    "    \"\"\"\n",
    "\n",
    "store_query(\"Task 3\", \"Who are the top 10 users who post the most? \", sql) "
   ]
  },
  {
   "cell_type": "markdown",
   "metadata": {},
   "source": [
    "# Task 4: Check the Queries Table\n",
    "\n",
    "Now let's tidy up and check the queries table.\n",
    "\n",
    "First let's check it's contents:"
   ]
  },
  {
   "cell_type": "code",
   "execution_count": 278,
   "metadata": {},
   "outputs": [
    {
     "name": "stdout",
     "output_type": "stream",
     "text": [
      " * sqlite:///chatdata.db\n",
      "Done.\n"
     ]
    },
    {
     "data": {
      "text/html": [
       "<table>\n",
       "    <tr>\n",
       "        <th>task</th>\n",
       "        <th>action</th>\n",
       "        <th>query</th>\n",
       "    </tr>\n",
       "    <tr>\n",
       "        <td>Task 1</td>\n",
       "        <td>Create table comments</td>\n",
       "        <td><br>    CREATE TABLE &quot;comments&quot; (<br>    &quot;Id&quot; INTEGER,<br>    &quot;PostId&quot; INTEGER,<br>    &quot;Score&quot; INTEGER,<br>    &quot;Text&quot; TEXT,<br>    &quot;CreationDate&quot; TEXT,<br>    &quot;UserId&quot; INTEGER<br>    )<br>    </td>\n",
       "    </tr>\n",
       "    <tr>\n",
       "        <td>Task 1</td>\n",
       "        <td>Create table posts</td>\n",
       "        <td><br>    CREATE TABLE &quot;posts&quot; (<br>   &quot;Id&quot; INTEGER,<br>   &quot;PostTypeId&quot; INTEGER,<br>   &quot;AcceptedAnswerId&quot; INTEGER,<br>   &quot;ParentId&quot; INTEGER,<br>   &quot;CreationDate&quot; TEXT,<br>   &quot;Score&quot; INTEGER,<br>   &quot;ViewCount&quot; INTEGER,<br>   &quot;Body&quot; TEXT,<br>   &quot;OwnerUserId&quot; INTEGER,<br>   &quot;OwnerDisplayName&quot; TEXT,<br>   &quot;LastEditorUserId&quot; INTEGER,<br>   &quot;LastEditorDisplayName&quot; TEXT,<br>   &quot;LastEditDate&quot; TEXT,<br>   &quot;LastActivityDate&quot; TEXT,<br>   &quot;Title&quot; TEXT,<br>   &quot;Tags&quot; TEXT,<br>   &quot;AnswerCount&quot; INTEGER,<br>   &quot;CommentCount&quot; INTEGER,<br>   &quot;FavoriteCount&quot; INTEGER,<br>   &quot;ClosedDate&quot; TEXT,<br>   &quot;CommunityOwnedDate&quot; TEXT <br>    )<br>    </td>\n",
       "    </tr>\n",
       "    <tr>\n",
       "        <td>Task 1</td>\n",
       "        <td>Create table users</td>\n",
       "        <td><br>    CREATE TABLE &quot;users&quot;(<br>    &quot;Id&quot; INTEGER,<br>    &quot;Reputation&quot; INTEGER,<br>    &quot;CreationDate&quot; TEXT,<br>    &quot;DisplayName&quot; TEXT,<br>    &quot;LastAccessDate&quot; TEXT,<br>    &quot;WebsiteUrl&quot; TEXT,<br>    &quot;Location&quot; TEXT,<br>    &quot;AboutMe&quot; TEXT,<br>    &quot;Views&quot; INTEGER,<br>    &quot;UpVotes&quot; INTEGER,<br>    &quot;DownVotes&quot; INTEGER,<br>    &quot;ProfileImageUrl&quot; TEXT,<br>    &quot;AccountId&quot; INTEGER<br>    )<br>    </td>\n",
       "    </tr>\n",
       "    <tr>\n",
       "        <td>Task 1</td>\n",
       "        <td>Count the number of rows in the comments table</td>\n",
       "        <td><br>    SELECT COUNT(*) AS row_count_comments<br>    FROM Comments<br>    </td>\n",
       "    </tr>\n",
       "    <tr>\n",
       "        <td>Task 1</td>\n",
       "        <td>Count the number of rows in the users table</td>\n",
       "        <td><br>    SELECT COUNT(*) AS row_count_users<br>    FROM Users<br>    </td>\n",
       "    </tr>\n",
       "    <tr>\n",
       "        <td>Task 1</td>\n",
       "        <td>Count the number of rows in the posts table</td>\n",
       "        <td><br>    SELECT COUNT(*) AS row_count_posts<br>    FROM Posts<br>    </td>\n",
       "    </tr>\n",
       "    <tr>\n",
       "        <td>Task 1</td>\n",
       "        <td>Run the query to select 5 random rows from the posts table</td>\n",
       "        <td><br>    SELECT * <br>    FROM Posts<br>    ORDER BY random()<br>    LIMIT 5;<br>    </td>\n",
       "    </tr>\n",
       "    <tr>\n",
       "        <td>Task 1</td>\n",
       "        <td>Run the query to select 5 random rows from the comments table</td>\n",
       "        <td><br>    SELECT * <br>    FROM Comments<br>    ORDER BY random()<br>    LIMIT 5;<br>    </td>\n",
       "    </tr>\n",
       "    <tr>\n",
       "        <td>Task 1</td>\n",
       "        <td>Run the query to select 5 random rows from the users table</td>\n",
       "        <td><br>    SELECT * <br>    FROM Users<br>    ORDER BY random()<br>    LIMIT 5;<br>    </td>\n",
       "    </tr>\n",
       "    <tr>\n",
       "        <td>Task 2</td>\n",
       "        <td>How many posts have 0 comments?</td>\n",
       "        <td><br>    SELECT COUNT(*)<br>    FROM posts<br>    WHERE CommentCount == 0;<br>    </td>\n",
       "    </tr>\n",
       "    <tr>\n",
       "        <td>Task 2</td>\n",
       "        <td>How many posts have 1 comments?</td>\n",
       "        <td><br>    SELECT COUNT(*)<br>    FROM posts<br>    WHERE CommentCount == 1;<br>    </td>\n",
       "    </tr>\n",
       "    <tr>\n",
       "        <td>Task 2</td>\n",
       "        <td>How many posts have 2 comments or more?</td>\n",
       "        <td><br>    SELECT COUNT(*)<br>    FROM posts<br>    WHERE CommentCount &gt;= 2;<br>    </td>\n",
       "    </tr>\n",
       "    <tr>\n",
       "        <td>Task 2</td>\n",
       "        <td>Find the 5 posts with the highest viewcount</td>\n",
       "        <td><br>    SELECT Id AS Post_id , ViewCount<br>    FROM Posts<br>    ORDER BY ViewCount DESC<br>    LIMIT 5;<br>    </td>\n",
       "    </tr>\n",
       "    <tr>\n",
       "        <td>Task 2</td>\n",
       "        <td>Find the top 5 posts with the highest scores</td>\n",
       "        <td><br>    SELECT Id AS Post_id , Score<br>    FROM Posts<br>    ORDER BY Score DESC<br>    LIMIT 5;<br>    </td>\n",
       "    </tr>\n",
       "    <tr>\n",
       "        <td>Task 2</td>\n",
       "        <td>What are the 5 most frequent scores on posts?</td>\n",
       "        <td><br>    SELECT Score, COUNT(*) AS score_count<br>    FROM Posts<br>    GROUP BY Score<br>    ORDER BY score_count DESC<br>    LIMIT 5;<br>    </td>\n",
       "    </tr>\n",
       "    <tr>\n",
       "        <td>Task 2</td>\n",
       "        <td>How many posts have the keyword &#x27;data&#x27; in their tags?</td>\n",
       "        <td><br>    SELECT COUNT(*) AS number_of_posts_with_data_tag<br>    FROM POSTS<br>    WHERE Tags LIKE &#x27;%&lt;data&gt;%&#x27;;<br>    </td>\n",
       "    </tr>\n",
       "    <tr>\n",
       "        <td>Task 2</td>\n",
       "        <td>What are the 5 most frequent commentcount for posts?</td>\n",
       "        <td><br>    SELECT CommentCount, COUNT(*) AS CommentCount_frequently<br>    FROM Posts<br>    Group BY CommentCount<br>    ORDER BY CommentCount_frequently<br>    LIMIT 5;<br>    </td>\n",
       "    </tr>\n",
       "    <tr>\n",
       "        <td>Task 2</td>\n",
       "        <td>How many posts have an accepted answer?</td>\n",
       "        <td><br>    SELECT COUNT(*) As count_accepted_answer<br>    FROM Posts<br>    WHERE AcceptedAnswerId &lt;&gt; 0;<br>    </td>\n",
       "    </tr>\n",
       "    <tr>\n",
       "        <td>Task 2</td>\n",
       "        <td>What is the average reputation of table users?</td>\n",
       "        <td><br>    SELECT AVG(Reputation) AS user_agerage_reputation<br>    FROM Users;<br>    </td>\n",
       "    </tr>\n",
       "    <tr>\n",
       "        <td>Task 2</td>\n",
       "        <td>What are the min and max reputation of users?</td>\n",
       "        <td><br>    SELECT MIN(Reputation) AS user_min_reputation , MAX(Reputation) AS user_max_reputation <br>    FROM Users;<br>    </td>\n",
       "    </tr>\n",
       "    <tr>\n",
       "        <td>Task 2</td>\n",
       "        <td>What is the length of the body of 5 most viewed posts?</td>\n",
       "        <td><br>    SELECT Id as Post_id, LEN_BODY<br>    FROM Posts<br>    ORDER BY ViewCount DESC<br>    LIMIT 5;<br>    </td>\n",
       "    </tr>\n",
       "    <tr>\n",
       "        <td>Task 2</td>\n",
       "        <td>How many different locations are there in the users table?</td>\n",
       "        <td><br>    SELECT COUNT(DISTINCT  Location ) AS location_count<br>    FROM Users;<br>    </td>\n",
       "    </tr>\n",
       "    <tr>\n",
       "        <td>Task 2</td>\n",
       "        <td>What are the top 5 locations of users?</td>\n",
       "        <td><br>    SELECT Location, COUNT(*) as number_of_users<br>    FROM Users<br>    GROUP BY Location<br>    ORDER BY number_of_users DEsc<br>    LIMIT 5;<br>    </td>\n",
       "    </tr>\n",
       "    <tr>\n",
       "        <td>Task 2</td>\n",
       "        <td>Rank the days of the week from highest to lowest in terms of the volume of ViewCount as a percentage</td>\n",
       "        <td><br>    SELECT CAST (strftime(&#x27;%w&#x27;, CreationDate) AS INTEGER) AS DayOfWeek,<br>       COUNT(*) * 100.0 / (SELECT COUNT(*) FROM posts) AS Percentage<br>    FROM posts<br>    GROUP BY DayOfWeek<br>    ORDER BY Percentage DESC;<br>    </td>\n",
       "    </tr>\n",
       "    <tr>\n",
       "        <td>Task 3</td>\n",
       "        <td>How many posts have been created by a user that has a filled out the &#x27;AboutMe&#x27; section?</td>\n",
       "        <td><br>    Select COUNT(p.Id) AS number_of_posts<br>    FROM Posts as p<br>    INNER JOIN Users as u <br>    ON p.OwnerUserId = u.Id<br>    Where u.Id IN (SELECT Id<br>    FROM Users<br>    WHERE AboutMe IS NOT NULL);<br>    </td>\n",
       "    </tr>\n",
       "    <tr>\n",
       "        <td>Task 3</td>\n",
       "        <td>Considering only the users with an &#x27;AboutMe,&#x27; how many posts are there per user?</td>\n",
       "        <td><br>    SELECT COUNT(*)::FLOAT / (SELECT COUNT(*) FROM users WHERE AboutMe IS NOT NULL) AS PostsPerUser<br>    FROM posts<br>    WHERE OwnerUserId IN (SELECT Id FROM users WHERE AboutMe IS NOT NULL);<br>    </td>\n",
       "    </tr>\n",
       "    <tr>\n",
       "        <td>Task 3</td>\n",
       "        <td>What are the Top 10 posts which have the highest cummulative (post score + comment score) score? </td>\n",
       "        <td><br>    SELECT p.Id AS post_id, (p.Score+ SUM( c.Score)) AS CumulativeScore<br>    FROM Posts p<br>    LEFT JOIN Comments c <br>    ON p.Id = c.PostId<br>    GROUP BY p.Id, P.Score<br>    ORDER BY CumulativeScore DESC<br>    LIMIT 10;<br>    </td>\n",
       "    </tr>\n",
       "    <tr>\n",
       "        <td>Task 3</td>\n",
       "        <td>Who are the top 10 users who comment the most? </td>\n",
       "        <td><br>    SELECT c.UserId, COUNT(*) AS Comment_count, u.Reputation<br>    FROM Comments c<br>    JOIN Users u <br>    on c.UserId = u.Id<br>    GROUP BY c.UserId<br>    ORDER BY Comment_count DESC<br>    LIMIT 10;<br>    </td>\n",
       "    </tr>\n",
       "    <tr>\n",
       "        <td>Task 3</td>\n",
       "        <td>Who are the top 10 users who post the most? </td>\n",
       "        <td><br>    SELECT c.UserId, COUNT(*) AS Comment_count, u.Reputation<br>    FROM Comments c<br>    JOIN Users u <br>    on c.UserId = u.Id<br>    GROUP BY c.UserId<br>    ORDER BY Comment_count DESC<br>    LIMIT 10;<br>    </td>\n",
       "    </tr>\n",
       "</table>"
      ],
      "text/plain": [
       "[('Task 1', 'Create table comments', '\\n    CREATE TABLE \"comments\" (\\n    \"Id\" INTEGER,\\n    \"PostId\" INTEGER,\\n    \"Score\" INTEGER,\\n    \"Text\" TEXT,\\n    \"CreationDate\" TEXT,\\n    \"UserId\" INTEGER\\n    )\\n    '),\n",
       " ('Task 1', 'Create table posts', '\\n    CREATE TABLE \"posts\" (\\n   \"Id\" INTEGER,\\n   \"PostTypeId\" INTEGER,\\n   \"AcceptedAnswerId\" INTEGER,\\n   \"ParentId\" INTEGER,\\n   \"CreationDate\" T ... (280 characters truncated) ...    \"AnswerCount\" INTEGER,\\n   \"CommentCount\" INTEGER,\\n   \"FavoriteCount\" INTEGER,\\n   \"ClosedDate\" TEXT,\\n   \"CommunityOwnedDate\" TEXT \\n    )\\n    '),\n",
       " ('Task 1', 'Create table users', '\\n    CREATE TABLE \"users\"(\\n    \"Id\" INTEGER,\\n    \"Reputation\" INTEGER,\\n    \"CreationDate\" TEXT,\\n    \"DisplayName\" TEXT,\\n    \"LastAccessDate\" TE ... (60 characters truncated) ... tMe\" TEXT,\\n    \"Views\" INTEGER,\\n    \"UpVotes\" INTEGER,\\n    \"DownVotes\" INTEGER,\\n    \"ProfileImageUrl\" TEXT,\\n    \"AccountId\" INTEGER\\n    )\\n    '),\n",
       " ('Task 1', 'Count the number of rows in the comments table', '\\n    SELECT COUNT(*) AS row_count_comments\\n    FROM Comments\\n    '),\n",
       " ('Task 1', 'Count the number of rows in the users table', '\\n    SELECT COUNT(*) AS row_count_users\\n    FROM Users\\n    '),\n",
       " ('Task 1', 'Count the number of rows in the posts table', '\\n    SELECT COUNT(*) AS row_count_posts\\n    FROM Posts\\n    '),\n",
       " ('Task 1', 'Run the query to select 5 random rows from the posts table', '\\n    SELECT * \\n    FROM Posts\\n    ORDER BY random()\\n    LIMIT 5;\\n    '),\n",
       " ('Task 1', 'Run the query to select 5 random rows from the comments table', '\\n    SELECT * \\n    FROM Comments\\n    ORDER BY random()\\n    LIMIT 5;\\n    '),\n",
       " ('Task 1', 'Run the query to select 5 random rows from the users table', '\\n    SELECT * \\n    FROM Users\\n    ORDER BY random()\\n    LIMIT 5;\\n    '),\n",
       " ('Task 2', 'How many posts have 0 comments?', '\\n    SELECT COUNT(*)\\n    FROM posts\\n    WHERE CommentCount == 0;\\n    '),\n",
       " ('Task 2', 'How many posts have 1 comments?', '\\n    SELECT COUNT(*)\\n    FROM posts\\n    WHERE CommentCount == 1;\\n    '),\n",
       " ('Task 2', 'How many posts have 2 comments or more?', '\\n    SELECT COUNT(*)\\n    FROM posts\\n    WHERE CommentCount >= 2;\\n    '),\n",
       " ('Task 2', 'Find the 5 posts with the highest viewcount', '\\n    SELECT Id AS Post_id , ViewCount\\n    FROM Posts\\n    ORDER BY ViewCount DESC\\n    LIMIT 5;\\n    '),\n",
       " ('Task 2', 'Find the top 5 posts with the highest scores', '\\n    SELECT Id AS Post_id , Score\\n    FROM Posts\\n    ORDER BY Score DESC\\n    LIMIT 5;\\n    '),\n",
       " ('Task 2', 'What are the 5 most frequent scores on posts?', '\\n    SELECT Score, COUNT(*) AS score_count\\n    FROM Posts\\n    GROUP BY Score\\n    ORDER BY score_count DESC\\n    LIMIT 5;\\n    '),\n",
       " ('Task 2', \"How many posts have the keyword 'data' in their tags?\", \"\\n    SELECT COUNT(*) AS number_of_posts_with_data_tag\\n    FROM POSTS\\n    WHERE Tags LIKE '%<data>%';\\n    \"),\n",
       " ('Task 2', 'What are the 5 most frequent commentcount for posts?', '\\n    SELECT CommentCount, COUNT(*) AS CommentCount_frequently\\n    FROM Posts\\n    Group BY CommentCount\\n    ORDER BY CommentCount_frequently\\n    LIMIT 5;\\n    '),\n",
       " ('Task 2', 'How many posts have an accepted answer?', '\\n    SELECT COUNT(*) As count_accepted_answer\\n    FROM Posts\\n    WHERE AcceptedAnswerId <> 0;\\n    '),\n",
       " ('Task 2', 'What is the average reputation of table users?', '\\n    SELECT AVG(Reputation) AS user_agerage_reputation\\n    FROM Users;\\n    '),\n",
       " ('Task 2', 'What are the min and max reputation of users?', '\\n    SELECT MIN(Reputation) AS user_min_reputation , MAX(Reputation) AS user_max_reputation \\n    FROM Users;\\n    '),\n",
       " ('Task 2', 'What is the length of the body of 5 most viewed posts?', '\\n    SELECT Id as Post_id, LEN_BODY\\n    FROM Posts\\n    ORDER BY ViewCount DESC\\n    LIMIT 5;\\n    '),\n",
       " ('Task 2', 'How many different locations are there in the users table?', '\\n    SELECT COUNT(DISTINCT  Location ) AS location_count\\n    FROM Users;\\n    '),\n",
       " ('Task 2', 'What are the top 5 locations of users?', '\\n    SELECT Location, COUNT(*) as number_of_users\\n    FROM Users\\n    GROUP BY Location\\n    ORDER BY number_of_users DEsc\\n    LIMIT 5;\\n    '),\n",
       " ('Task 2', 'Rank the days of the week from highest to lowest in terms of the volume of ViewCount as a percentage', \"\\n    SELECT CAST (strftime('%w', CreationDate) AS INTEGER) AS DayOfWeek,\\n       COUNT(*) * 100.0 / (SELECT COUNT(*) FROM posts) AS Percentage\\n    FROM posts\\n    GROUP BY DayOfWeek\\n    ORDER BY Percentage DESC;\\n    \"),\n",
       " ('Task 3', \"How many posts have been created by a user that has a filled out the 'AboutMe' section?\", '\\n    Select COUNT(p.Id) AS number_of_posts\\n    FROM Posts as p\\n    INNER JOIN Users as u \\n    ON p.OwnerUserId = u.Id\\n    Where u.Id IN (SELECT Id\\n    FROM Users\\n    WHERE AboutMe IS NOT NULL);\\n    '),\n",
       " ('Task 3', \"Considering only the users with an 'AboutMe,' how many posts are there per user?\", '\\n    SELECT COUNT(*)::FLOAT / (SELECT COUNT(*) FROM users WHERE AboutMe IS NOT NULL) AS PostsPerUser\\n    FROM posts\\n    WHERE OwnerUserId IN (SELECT Id FROM users WHERE AboutMe IS NOT NULL);\\n    '),\n",
       " ('Task 3', 'What are the Top 10 posts which have the highest cummulative (post score + comment score) score? ', '\\n    SELECT p.Id AS post_id, (p.Score+ SUM( c.Score)) AS CumulativeScore\\n    FROM Posts p\\n    LEFT JOIN Comments c \\n    ON p.Id = c.PostId\\n    GROUP BY p.Id, P.Score\\n    ORDER BY CumulativeScore DESC\\n    LIMIT 10;\\n    '),\n",
       " ('Task 3', 'Who are the top 10 users who comment the most? ', '\\n    SELECT c.UserId, COUNT(*) AS Comment_count, u.Reputation\\n    FROM Comments c\\n    JOIN Users u \\n    on c.UserId = u.Id\\n    GROUP BY c.UserId\\n    ORDER BY Comment_count DESC\\n    LIMIT 10;\\n    '),\n",
       " ('Task 3', 'Who are the top 10 users who post the most? ', '\\n    SELECT c.UserId, COUNT(*) AS Comment_count, u.Reputation\\n    FROM Comments c\\n    JOIN Users u \\n    on c.UserId = u.Id\\n    GROUP BY c.UserId\\n    ORDER BY Comment_count DESC\\n    LIMIT 10;\\n    ')]"
      ]
     },
     "execution_count": 278,
     "metadata": {},
     "output_type": "execute_result"
    }
   ],
   "source": [
    "%sql SELECT * FROM queries"
   ]
  },
  {
   "cell_type": "markdown",
   "metadata": {},
   "source": [
    "## Drop Duplicates\n",
    "\n",
    "You likely have some duplicates. Lets drop them. "
   ]
  },
  {
   "cell_type": "code",
   "execution_count": 279,
   "metadata": {},
   "outputs": [],
   "source": [
    "# Read the queries table into pandas\n",
    "sql = 'SELECT * FROM queries'\n",
    "queries = pd.read_sql(sql, con)\n",
    "\n",
    "# Drop duplicates\n",
    "queries.drop_duplicates(inplace = True) # drop duplicates"
   ]
  },
  {
   "cell_type": "markdown",
   "metadata": {},
   "source": [
    "## Case Issues"
   ]
  },
  {
   "cell_type": "markdown",
   "metadata": {},
   "source": [
    "Remember, SQL is case insensitive. Pandas IS case sensitive. Lets deal with this now by making all of the text uppercase. "
   ]
  },
  {
   "cell_type": "code",
   "execution_count": 280,
   "metadata": {},
   "outputs": [
    {
     "data": {
      "text/html": [
       "<div>\n",
       "<style scoped>\n",
       "    .dataframe tbody tr th:only-of-type {\n",
       "        vertical-align: middle;\n",
       "    }\n",
       "\n",
       "    .dataframe tbody tr th {\n",
       "        vertical-align: top;\n",
       "    }\n",
       "\n",
       "    .dataframe thead th {\n",
       "        text-align: right;\n",
       "    }\n",
       "</style>\n",
       "<table border=\"1\" class=\"dataframe\">\n",
       "  <thead>\n",
       "    <tr style=\"text-align: right;\">\n",
       "      <th></th>\n",
       "      <th>task</th>\n",
       "      <th>action</th>\n",
       "      <th>query</th>\n",
       "    </tr>\n",
       "  </thead>\n",
       "  <tbody>\n",
       "    <tr>\n",
       "      <th>0</th>\n",
       "      <td>TASK 1</td>\n",
       "      <td>CREATE TABLE COMMENTS</td>\n",
       "      <td>\\n    CREATE TABLE \"COMMENTS\" (\\n    \"ID\" INTE...</td>\n",
       "    </tr>\n",
       "    <tr>\n",
       "      <th>1</th>\n",
       "      <td>TASK 1</td>\n",
       "      <td>CREATE TABLE POSTS</td>\n",
       "      <td>\\n    CREATE TABLE \"POSTS\" (\\n   \"ID\" INTEGER,...</td>\n",
       "    </tr>\n",
       "    <tr>\n",
       "      <th>2</th>\n",
       "      <td>TASK 1</td>\n",
       "      <td>CREATE TABLE USERS</td>\n",
       "      <td>\\n    CREATE TABLE \"USERS\"(\\n    \"ID\" INTEGER,...</td>\n",
       "    </tr>\n",
       "    <tr>\n",
       "      <th>3</th>\n",
       "      <td>TASK 1</td>\n",
       "      <td>COUNT THE NUMBER OF ROWS IN THE COMMENTS TABLE</td>\n",
       "      <td>\\n    SELECT COUNT(*) AS ROW_COUNT_COMMENTS\\n ...</td>\n",
       "    </tr>\n",
       "    <tr>\n",
       "      <th>4</th>\n",
       "      <td>TASK 1</td>\n",
       "      <td>COUNT THE NUMBER OF ROWS IN THE USERS TABLE</td>\n",
       "      <td>\\n    SELECT COUNT(*) AS ROW_COUNT_USERS\\n    ...</td>\n",
       "    </tr>\n",
       "    <tr>\n",
       "      <th>5</th>\n",
       "      <td>TASK 1</td>\n",
       "      <td>COUNT THE NUMBER OF ROWS IN THE POSTS TABLE</td>\n",
       "      <td>\\n    SELECT COUNT(*) AS ROW_COUNT_POSTS\\n    ...</td>\n",
       "    </tr>\n",
       "    <tr>\n",
       "      <th>6</th>\n",
       "      <td>TASK 1</td>\n",
       "      <td>RUN THE QUERY TO SELECT 5 RANDOM ROWS FROM THE...</td>\n",
       "      <td>\\n    SELECT * \\n    FROM POSTS\\n    ORDER BY ...</td>\n",
       "    </tr>\n",
       "    <tr>\n",
       "      <th>7</th>\n",
       "      <td>TASK 1</td>\n",
       "      <td>RUN THE QUERY TO SELECT 5 RANDOM ROWS FROM THE...</td>\n",
       "      <td>\\n    SELECT * \\n    FROM COMMENTS\\n    ORDER ...</td>\n",
       "    </tr>\n",
       "    <tr>\n",
       "      <th>8</th>\n",
       "      <td>TASK 1</td>\n",
       "      <td>RUN THE QUERY TO SELECT 5 RANDOM ROWS FROM THE...</td>\n",
       "      <td>\\n    SELECT * \\n    FROM USERS\\n    ORDER BY ...</td>\n",
       "    </tr>\n",
       "    <tr>\n",
       "      <th>9</th>\n",
       "      <td>TASK 2</td>\n",
       "      <td>HOW MANY POSTS HAVE 0 COMMENTS?</td>\n",
       "      <td>\\n    SELECT COUNT(*)\\n    FROM POSTS\\n    WHE...</td>\n",
       "    </tr>\n",
       "    <tr>\n",
       "      <th>10</th>\n",
       "      <td>TASK 2</td>\n",
       "      <td>HOW MANY POSTS HAVE 1 COMMENTS?</td>\n",
       "      <td>\\n    SELECT COUNT(*)\\n    FROM POSTS\\n    WHE...</td>\n",
       "    </tr>\n",
       "    <tr>\n",
       "      <th>11</th>\n",
       "      <td>TASK 2</td>\n",
       "      <td>HOW MANY POSTS HAVE 2 COMMENTS OR MORE?</td>\n",
       "      <td>\\n    SELECT COUNT(*)\\n    FROM POSTS\\n    WHE...</td>\n",
       "    </tr>\n",
       "    <tr>\n",
       "      <th>12</th>\n",
       "      <td>TASK 2</td>\n",
       "      <td>FIND THE 5 POSTS WITH THE HIGHEST VIEWCOUNT</td>\n",
       "      <td>\\n    SELECT ID AS POST_ID , VIEWCOUNT\\n    FR...</td>\n",
       "    </tr>\n",
       "    <tr>\n",
       "      <th>13</th>\n",
       "      <td>TASK 2</td>\n",
       "      <td>FIND THE TOP 5 POSTS WITH THE HIGHEST SCORES</td>\n",
       "      <td>\\n    SELECT ID AS POST_ID , SCORE\\n    FROM P...</td>\n",
       "    </tr>\n",
       "    <tr>\n",
       "      <th>14</th>\n",
       "      <td>TASK 2</td>\n",
       "      <td>WHAT ARE THE 5 MOST FREQUENT SCORES ON POSTS?</td>\n",
       "      <td>\\n    SELECT SCORE, COUNT(*) AS SCORE_COUNT\\n ...</td>\n",
       "    </tr>\n",
       "    <tr>\n",
       "      <th>15</th>\n",
       "      <td>TASK 2</td>\n",
       "      <td>HOW MANY POSTS HAVE THE KEYWORD 'DATA' IN THEI...</td>\n",
       "      <td>\\n    SELECT COUNT(*) AS NUMBER_OF_POSTS_WITH_...</td>\n",
       "    </tr>\n",
       "    <tr>\n",
       "      <th>16</th>\n",
       "      <td>TASK 2</td>\n",
       "      <td>WHAT ARE THE 5 MOST FREQUENT COMMENTCOUNT FOR ...</td>\n",
       "      <td>\\n    SELECT COMMENTCOUNT, COUNT(*) AS COMMENT...</td>\n",
       "    </tr>\n",
       "    <tr>\n",
       "      <th>17</th>\n",
       "      <td>TASK 2</td>\n",
       "      <td>HOW MANY POSTS HAVE AN ACCEPTED ANSWER?</td>\n",
       "      <td>\\n    SELECT COUNT(*) AS COUNT_ACCEPTED_ANSWER...</td>\n",
       "    </tr>\n",
       "    <tr>\n",
       "      <th>18</th>\n",
       "      <td>TASK 2</td>\n",
       "      <td>WHAT IS THE AVERAGE REPUTATION OF TABLE USERS?</td>\n",
       "      <td>\\n    SELECT AVG(REPUTATION) AS USER_AGERAGE_R...</td>\n",
       "    </tr>\n",
       "    <tr>\n",
       "      <th>19</th>\n",
       "      <td>TASK 2</td>\n",
       "      <td>WHAT ARE THE MIN AND MAX REPUTATION OF USERS?</td>\n",
       "      <td>\\n    SELECT MIN(REPUTATION) AS USER_MIN_REPUT...</td>\n",
       "    </tr>\n",
       "    <tr>\n",
       "      <th>20</th>\n",
       "      <td>TASK 2</td>\n",
       "      <td>WHAT IS THE LENGTH OF THE BODY OF 5 MOST VIEWE...</td>\n",
       "      <td>\\n    SELECT ID AS POST_ID, LEN_BODY\\n    FROM...</td>\n",
       "    </tr>\n",
       "    <tr>\n",
       "      <th>21</th>\n",
       "      <td>TASK 2</td>\n",
       "      <td>HOW MANY DIFFERENT LOCATIONS ARE THERE IN THE ...</td>\n",
       "      <td>\\n    SELECT COUNT(DISTINCT  LOCATION ) AS LOC...</td>\n",
       "    </tr>\n",
       "    <tr>\n",
       "      <th>22</th>\n",
       "      <td>TASK 2</td>\n",
       "      <td>WHAT ARE THE TOP 5 LOCATIONS OF USERS?</td>\n",
       "      <td>\\n    SELECT LOCATION, COUNT(*) AS NUMBER_OF_U...</td>\n",
       "    </tr>\n",
       "    <tr>\n",
       "      <th>23</th>\n",
       "      <td>TASK 2</td>\n",
       "      <td>RANK THE DAYS OF THE WEEK FROM HIGHEST TO LOWE...</td>\n",
       "      <td>\\n    SELECT CAST (STRFTIME('%W', CREATIONDATE...</td>\n",
       "    </tr>\n",
       "    <tr>\n",
       "      <th>24</th>\n",
       "      <td>TASK 3</td>\n",
       "      <td>HOW MANY POSTS HAVE BEEN CREATED BY A USER THA...</td>\n",
       "      <td>\\n    SELECT COUNT(P.ID) AS NUMBER_OF_POSTS\\n ...</td>\n",
       "    </tr>\n",
       "    <tr>\n",
       "      <th>25</th>\n",
       "      <td>TASK 3</td>\n",
       "      <td>CONSIDERING ONLY THE USERS WITH AN 'ABOUTME,' ...</td>\n",
       "      <td>\\n    SELECT COUNT(*)::FLOAT / (SELECT COUNT(*...</td>\n",
       "    </tr>\n",
       "    <tr>\n",
       "      <th>26</th>\n",
       "      <td>TASK 3</td>\n",
       "      <td>WHAT ARE THE TOP 10 POSTS WHICH HAVE THE HIGHE...</td>\n",
       "      <td>\\n    SELECT P.ID AS POST_ID, (P.SCORE+ SUM( C...</td>\n",
       "    </tr>\n",
       "    <tr>\n",
       "      <th>27</th>\n",
       "      <td>TASK 3</td>\n",
       "      <td>WHO ARE THE TOP 10 USERS WHO COMMENT THE MOST?</td>\n",
       "      <td>\\n    SELECT C.USERID, COUNT(*) AS COMMENT_COU...</td>\n",
       "    </tr>\n",
       "    <tr>\n",
       "      <th>28</th>\n",
       "      <td>TASK 3</td>\n",
       "      <td>WHO ARE THE TOP 10 USERS WHO POST THE MOST?</td>\n",
       "      <td>\\n    SELECT C.USERID, COUNT(*) AS COMMENT_COU...</td>\n",
       "    </tr>\n",
       "  </tbody>\n",
       "</table>\n",
       "</div>"
      ],
      "text/plain": [
       "      task                                             action  \\\n",
       "0   TASK 1                              CREATE TABLE COMMENTS   \n",
       "1   TASK 1                                 CREATE TABLE POSTS   \n",
       "2   TASK 1                                 CREATE TABLE USERS   \n",
       "3   TASK 1     COUNT THE NUMBER OF ROWS IN THE COMMENTS TABLE   \n",
       "4   TASK 1        COUNT THE NUMBER OF ROWS IN THE USERS TABLE   \n",
       "5   TASK 1        COUNT THE NUMBER OF ROWS IN THE POSTS TABLE   \n",
       "6   TASK 1  RUN THE QUERY TO SELECT 5 RANDOM ROWS FROM THE...   \n",
       "7   TASK 1  RUN THE QUERY TO SELECT 5 RANDOM ROWS FROM THE...   \n",
       "8   TASK 1  RUN THE QUERY TO SELECT 5 RANDOM ROWS FROM THE...   \n",
       "9   TASK 2                    HOW MANY POSTS HAVE 0 COMMENTS?   \n",
       "10  TASK 2                    HOW MANY POSTS HAVE 1 COMMENTS?   \n",
       "11  TASK 2            HOW MANY POSTS HAVE 2 COMMENTS OR MORE?   \n",
       "12  TASK 2        FIND THE 5 POSTS WITH THE HIGHEST VIEWCOUNT   \n",
       "13  TASK 2       FIND THE TOP 5 POSTS WITH THE HIGHEST SCORES   \n",
       "14  TASK 2      WHAT ARE THE 5 MOST FREQUENT SCORES ON POSTS?   \n",
       "15  TASK 2  HOW MANY POSTS HAVE THE KEYWORD 'DATA' IN THEI...   \n",
       "16  TASK 2  WHAT ARE THE 5 MOST FREQUENT COMMENTCOUNT FOR ...   \n",
       "17  TASK 2            HOW MANY POSTS HAVE AN ACCEPTED ANSWER?   \n",
       "18  TASK 2     WHAT IS THE AVERAGE REPUTATION OF TABLE USERS?   \n",
       "19  TASK 2      WHAT ARE THE MIN AND MAX REPUTATION OF USERS?   \n",
       "20  TASK 2  WHAT IS THE LENGTH OF THE BODY OF 5 MOST VIEWE...   \n",
       "21  TASK 2  HOW MANY DIFFERENT LOCATIONS ARE THERE IN THE ...   \n",
       "22  TASK 2             WHAT ARE THE TOP 5 LOCATIONS OF USERS?   \n",
       "23  TASK 2  RANK THE DAYS OF THE WEEK FROM HIGHEST TO LOWE...   \n",
       "24  TASK 3  HOW MANY POSTS HAVE BEEN CREATED BY A USER THA...   \n",
       "25  TASK 3  CONSIDERING ONLY THE USERS WITH AN 'ABOUTME,' ...   \n",
       "26  TASK 3  WHAT ARE THE TOP 10 POSTS WHICH HAVE THE HIGHE...   \n",
       "27  TASK 3    WHO ARE THE TOP 10 USERS WHO COMMENT THE MOST?    \n",
       "28  TASK 3       WHO ARE THE TOP 10 USERS WHO POST THE MOST?    \n",
       "\n",
       "                                                query  \n",
       "0   \\n    CREATE TABLE \"COMMENTS\" (\\n    \"ID\" INTE...  \n",
       "1   \\n    CREATE TABLE \"POSTS\" (\\n   \"ID\" INTEGER,...  \n",
       "2   \\n    CREATE TABLE \"USERS\"(\\n    \"ID\" INTEGER,...  \n",
       "3   \\n    SELECT COUNT(*) AS ROW_COUNT_COMMENTS\\n ...  \n",
       "4   \\n    SELECT COUNT(*) AS ROW_COUNT_USERS\\n    ...  \n",
       "5   \\n    SELECT COUNT(*) AS ROW_COUNT_POSTS\\n    ...  \n",
       "6   \\n    SELECT * \\n    FROM POSTS\\n    ORDER BY ...  \n",
       "7   \\n    SELECT * \\n    FROM COMMENTS\\n    ORDER ...  \n",
       "8   \\n    SELECT * \\n    FROM USERS\\n    ORDER BY ...  \n",
       "9   \\n    SELECT COUNT(*)\\n    FROM POSTS\\n    WHE...  \n",
       "10  \\n    SELECT COUNT(*)\\n    FROM POSTS\\n    WHE...  \n",
       "11  \\n    SELECT COUNT(*)\\n    FROM POSTS\\n    WHE...  \n",
       "12  \\n    SELECT ID AS POST_ID , VIEWCOUNT\\n    FR...  \n",
       "13  \\n    SELECT ID AS POST_ID , SCORE\\n    FROM P...  \n",
       "14  \\n    SELECT SCORE, COUNT(*) AS SCORE_COUNT\\n ...  \n",
       "15  \\n    SELECT COUNT(*) AS NUMBER_OF_POSTS_WITH_...  \n",
       "16  \\n    SELECT COMMENTCOUNT, COUNT(*) AS COMMENT...  \n",
       "17  \\n    SELECT COUNT(*) AS COUNT_ACCEPTED_ANSWER...  \n",
       "18  \\n    SELECT AVG(REPUTATION) AS USER_AGERAGE_R...  \n",
       "19  \\n    SELECT MIN(REPUTATION) AS USER_MIN_REPUT...  \n",
       "20  \\n    SELECT ID AS POST_ID, LEN_BODY\\n    FROM...  \n",
       "21  \\n    SELECT COUNT(DISTINCT  LOCATION ) AS LOC...  \n",
       "22  \\n    SELECT LOCATION, COUNT(*) AS NUMBER_OF_U...  \n",
       "23  \\n    SELECT CAST (STRFTIME('%W', CREATIONDATE...  \n",
       "24  \\n    SELECT COUNT(P.ID) AS NUMBER_OF_POSTS\\n ...  \n",
       "25  \\n    SELECT COUNT(*)::FLOAT / (SELECT COUNT(*...  \n",
       "26  \\n    SELECT P.ID AS POST_ID, (P.SCORE+ SUM( C...  \n",
       "27  \\n    SELECT C.USERID, COUNT(*) AS COMMENT_COU...  \n",
       "28  \\n    SELECT C.USERID, COUNT(*) AS COMMENT_COU...  "
      ]
     },
     "execution_count": 280,
     "metadata": {},
     "output_type": "execute_result"
    }
   ],
   "source": [
    "for col in queries.columns:\n",
    "    queries[col] = queries[col].str.upper()\n",
    "    \n",
    "queries"
   ]
  },
  {
   "cell_type": "code",
   "execution_count": 281,
   "metadata": {},
   "outputs": [],
   "source": [
    "# Write the now deduped uppercase dataframe back to sqlite and replace the table\n",
    "queries.to_sql('queries', con, if_exists='replace', index=False)"
   ]
  },
  {
   "cell_type": "markdown",
   "metadata": {},
   "source": [
    "## Use Case\n",
    "\n",
    "Now that we have this queries table, lets give you some ideas about how you would use it.\n",
    "\n",
    "Suppose you wanted to find all of the queries where you did a GROUP BY:"
   ]
  },
  {
   "cell_type": "code",
   "execution_count": 282,
   "metadata": {},
   "outputs": [
    {
     "name": "stdout",
     "output_type": "stream",
     "text": [
      " * sqlite:///chatdata.db\n",
      "Done.\n"
     ]
    },
    {
     "data": {
      "text/html": [
       "<table>\n",
       "    <tr>\n",
       "        <th>query</th>\n",
       "    </tr>\n",
       "    <tr>\n",
       "        <td><br>    SELECT SCORE, COUNT(*) AS SCORE_COUNT<br>    FROM POSTS<br>    GROUP BY SCORE<br>    ORDER BY SCORE_COUNT DESC<br>    LIMIT 5;<br>    </td>\n",
       "    </tr>\n",
       "    <tr>\n",
       "        <td><br>    SELECT COMMENTCOUNT, COUNT(*) AS COMMENTCOUNT_FREQUENTLY<br>    FROM POSTS<br>    GROUP BY COMMENTCOUNT<br>    ORDER BY COMMENTCOUNT_FREQUENTLY<br>    LIMIT 5;<br>    </td>\n",
       "    </tr>\n",
       "    <tr>\n",
       "        <td><br>    SELECT LOCATION, COUNT(*) AS NUMBER_OF_USERS<br>    FROM USERS<br>    GROUP BY LOCATION<br>    ORDER BY NUMBER_OF_USERS DESC<br>    LIMIT 5;<br>    </td>\n",
       "    </tr>\n",
       "    <tr>\n",
       "        <td><br>    SELECT CAST (STRFTIME(&#x27;%W&#x27;, CREATIONDATE) AS INTEGER) AS DAYOFWEEK,<br>       COUNT(*) * 100.0 / (SELECT COUNT(*) FROM POSTS) AS PERCENTAGE<br>    FROM POSTS<br>    GROUP BY DAYOFWEEK<br>    ORDER BY PERCENTAGE DESC;<br>    </td>\n",
       "    </tr>\n",
       "    <tr>\n",
       "        <td><br>    SELECT P.ID AS POST_ID, (P.SCORE+ SUM( C.SCORE)) AS CUMULATIVESCORE<br>    FROM POSTS P<br>    LEFT JOIN COMMENTS C <br>    ON P.ID = C.POSTID<br>    GROUP BY P.ID, P.SCORE<br>    ORDER BY CUMULATIVESCORE DESC<br>    LIMIT 10;<br>    </td>\n",
       "    </tr>\n",
       "    <tr>\n",
       "        <td><br>    SELECT C.USERID, COUNT(*) AS COMMENT_COUNT, U.REPUTATION<br>    FROM COMMENTS C<br>    JOIN USERS U <br>    ON C.USERID = U.ID<br>    GROUP BY C.USERID<br>    ORDER BY COMMENT_COUNT DESC<br>    LIMIT 10;<br>    </td>\n",
       "    </tr>\n",
       "    <tr>\n",
       "        <td><br>    SELECT C.USERID, COUNT(*) AS COMMENT_COUNT, U.REPUTATION<br>    FROM COMMENTS C<br>    JOIN USERS U <br>    ON C.USERID = U.ID<br>    GROUP BY C.USERID<br>    ORDER BY COMMENT_COUNT DESC<br>    LIMIT 10;<br>    </td>\n",
       "    </tr>\n",
       "</table>"
      ],
      "text/plain": [
       "[('\\n    SELECT SCORE, COUNT(*) AS SCORE_COUNT\\n    FROM POSTS\\n    GROUP BY SCORE\\n    ORDER BY SCORE_COUNT DESC\\n    LIMIT 5;\\n    ',),\n",
       " ('\\n    SELECT COMMENTCOUNT, COUNT(*) AS COMMENTCOUNT_FREQUENTLY\\n    FROM POSTS\\n    GROUP BY COMMENTCOUNT\\n    ORDER BY COMMENTCOUNT_FREQUENTLY\\n    LIMIT 5;\\n    ',),\n",
       " ('\\n    SELECT LOCATION, COUNT(*) AS NUMBER_OF_USERS\\n    FROM USERS\\n    GROUP BY LOCATION\\n    ORDER BY NUMBER_OF_USERS DESC\\n    LIMIT 5;\\n    ',),\n",
       " (\"\\n    SELECT CAST (STRFTIME('%W', CREATIONDATE) AS INTEGER) AS DAYOFWEEK,\\n       COUNT(*) * 100.0 / (SELECT COUNT(*) FROM POSTS) AS PERCENTAGE\\n    FROM POSTS\\n    GROUP BY DAYOFWEEK\\n    ORDER BY PERCENTAGE DESC;\\n    \",),\n",
       " ('\\n    SELECT P.ID AS POST_ID, (P.SCORE+ SUM( C.SCORE)) AS CUMULATIVESCORE\\n    FROM POSTS P\\n    LEFT JOIN COMMENTS C \\n    ON P.ID = C.POSTID\\n    GROUP BY P.ID, P.SCORE\\n    ORDER BY CUMULATIVESCORE DESC\\n    LIMIT 10;\\n    ',),\n",
       " ('\\n    SELECT C.USERID, COUNT(*) AS COMMENT_COUNT, U.REPUTATION\\n    FROM COMMENTS C\\n    JOIN USERS U \\n    ON C.USERID = U.ID\\n    GROUP BY C.USERID\\n    ORDER BY COMMENT_COUNT DESC\\n    LIMIT 10;\\n    ',),\n",
       " ('\\n    SELECT C.USERID, COUNT(*) AS COMMENT_COUNT, U.REPUTATION\\n    FROM COMMENTS C\\n    JOIN USERS U \\n    ON C.USERID = U.ID\\n    GROUP BY C.USERID\\n    ORDER BY COMMENT_COUNT DESC\\n    LIMIT 10;\\n    ',)]"
      ]
     },
     "execution_count": 282,
     "metadata": {},
     "output_type": "execute_result"
    }
   ],
   "source": [
    "%%sql\n",
    "SELECT query\n",
    "    FROM queries\n",
    "        WHERE query LIKE '%GROUP BY%'"
   ]
  },
  {
   "cell_type": "markdown",
   "metadata": {},
   "source": [
    "## Now Your Turn\n",
    "Find the queries that have 'DISTINCT' in them. You can do it with the %sql command or with Pandas and sql.\n",
    "\n",
    "<div style=\"background-color:lemonchiffon; border:1px solid; padding:5px; margin:5px; font-weight:bold\"><font color=\"crimson\">\n",
    "TODO: Complete the following code cell\n",
    "    </font></div>"
   ]
  },
  {
   "cell_type": "code",
   "execution_count": 283,
   "metadata": {},
   "outputs": [
    {
     "name": "stdout",
     "output_type": "stream",
     "text": [
      " * sqlite:///chatdata.db\n",
      "Done.\n"
     ]
    },
    {
     "data": {
      "text/html": [
       "<table>\n",
       "    <tr>\n",
       "        <th>query</th>\n",
       "    </tr>\n",
       "    <tr>\n",
       "        <td><br>    SELECT COUNT(DISTINCT  LOCATION ) AS LOCATION_COUNT<br>    FROM USERS;<br>    </td>\n",
       "    </tr>\n",
       "</table>"
      ],
      "text/plain": [
       "[('\\n    SELECT COUNT(DISTINCT  LOCATION ) AS LOCATION_COUNT\\n    FROM USERS;\\n    ',)]"
      ]
     },
     "execution_count": 283,
     "metadata": {},
     "output_type": "execute_result"
    }
   ],
   "source": [
    "# TODO\n",
    "%sql SELECT query FROM queries WHERE query LIKE '%DISTINCT%'"
   ]
  },
  {
   "cell_type": "markdown",
   "metadata": {},
   "source": [
    "# Close SQLite\n",
    "\n",
    "It is good practise to close all relational databases as soon as you are finished updating them."
   ]
  },
  {
   "cell_type": "code",
   "execution_count": 284,
   "metadata": {},
   "outputs": [],
   "source": [
    "con.close()"
   ]
  },
  {
   "cell_type": "markdown",
   "metadata": {},
   "source": [
    "# All Done!\n",
    "\n",
    "Great job. You now have a good idea for how to use sql and pandas with sql. You can create your own databases from csv files and you can do extensive querying using sql. These are valuable skills that will take you a long ways in todays technological world."
   ]
  },
  {
   "cell_type": "code",
   "execution_count": null,
   "metadata": {},
   "outputs": [],
   "source": []
  }
 ],
 "metadata": {
  "kernelspec": {
   "display_name": "Python 3 (ipykernel)",
   "language": "python",
   "name": "python3"
  },
  "language_info": {
   "codemirror_mode": {
    "name": "ipython",
    "version": 3
   },
   "file_extension": ".py",
   "mimetype": "text/x-python",
   "name": "python",
   "nbconvert_exporter": "python",
   "pygments_lexer": "ipython3",
   "version": "3.8.18"
  },
  "toc": {
   "base_numbering": 1,
   "nav_menu": {},
   "number_sections": true,
   "sideBar": true,
   "skip_h1_title": false,
   "title_cell": "Table of Contents",
   "title_sidebar": "Contents",
   "toc_cell": false,
   "toc_position": {
    "height": "calc(100% - 180px)",
    "left": "10px",
    "top": "150px",
    "width": "293.993px"
   },
   "toc_section_display": true,
   "toc_window_display": true
  }
 },
 "nbformat": 4,
 "nbformat_minor": 4
}
